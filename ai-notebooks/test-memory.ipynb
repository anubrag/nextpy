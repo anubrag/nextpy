{
 "cells": [
  {
   "cell_type": "markdown",
   "metadata": {},
   "source": [
    "### General Memory Testing \n",
    "In the below block with the instance of memory, create an object of the memory you wish to test."
   ]
  },
  {
   "cell_type": "code",
   "execution_count": 26,
   "metadata": {},
   "outputs": [],
   "source": [
    "from nextpy.ai import engine as compiler\n",
    "\n",
    "from nextpy.ai.memory import SummaryMemory, ReadOnlyMemory\n",
    "\n",
    "general_testing_memory = SummaryMemory() \n",
    "\n",
    "api_key = 'api_key'\n",
    "\n",
    "llm =  compiler.llms.OpenAI(\"gpt-3.5-turbo\", chat_mode=True, api_key=api_key, caching=False)"
   ]
  },
  {
   "cell_type": "code",
   "execution_count": 27,
   "metadata": {},
   "outputs": [
    {
     "name": "stdout",
     "output_type": "stream",
     "text": [
      "memory=llm=<nextpy.ai.engine.llms._openai.OpenAI object at 0x7f309b2f32d0> memory_threshold=1 messages=[] current_summary='' messages_in_summary=[]\n"
     ]
    }
   ],
   "source": [
    "\n",
    "\n",
    "experts = compiler(template='''\n",
    "{{#system~}}\n",
    "You are a helpful and terse assistant.\n",
    "{{ ConversationHistory }}\n",
    "{{~/system}}\n",
    "\n",
    "{{#user~}}\n",
    "{{ query }}\n",
    "{{~/user}}\n",
    "\n",
    "{{#assistant~}}\n",
    "{{gen 'result' temperature=0 max_tokens=300}}\n",
    "{{~/assistant}}\n",
    "''', llm=llm, stream = False, memory=general_testing_memory, memory_threshold = 1)\n",
    "\n",
    "print(f'memory={general_testing_memory}')"
   ]
  },
  {
   "cell_type": "code",
   "execution_count": 28,
   "metadata": {},
   "outputs": [
    {
     "data": {
      "text/html": [
       "<div id=\"engine-stop-button-27f754ca-b9eb-451e-bb6e-3d1c46eb580a\" style=\"cursor: pointer; margin: 0px; display: none; float: right; padding: 3px; border-radius: 4px 4px 4px 4px; border: 0px solid rgba(127, 127, 127, 1); padding-left: 10px; padding-right: 10px; font-size: 13px; background-color: rgba(127, 127, 127, 0.25);\">Stop program</div><div id=\"engine-content-27f754ca-b9eb-451e-bb6e-3d1c46eb580a\"><pre style='margin: 0px; padding: 0px; padding-left: 8px; margin-left: -8px; border-radius: 0px; border-left: 1px solid rgba(127, 127, 127, 0.2); white-space: pre-wrap; font-family: ColfaxAI, Arial; font-size: 15px; line-height: 23px;'><div style='display: flex; border-bottom: 1px solid rgba(127, 127, 127, 0.2); align-items: center;'><div style='flex: 0 0 80px; opacity: 0.5;'>system</div><div style='flex-grow: 1; padding: 5px; padding-top: 10px; padding-bottom: 10px; margin-top: 0px; white-space: pre-wrap; margin-bottom: 0px;'>You are a helpful and terse assistant.\n",
       "<span style='background-color: rgba(0, 138.56128016, 250.76166089, 0.25); display: inline;' title='{{ ConversationHistory }}'></span></div></div><div style='display: flex; border-bottom: 1px solid rgba(127, 127, 127, 0.2); align-items: center;'><div style='flex: 0 0 80px; opacity: 0.5;'>user</div><div style='flex-grow: 1; padding: 5px; padding-top: 10px; padding-bottom: 10px; margin-top: 0px; white-space: pre-wrap; margin-bottom: 0px;'><span style='background-color: rgba(0, 138.56128016, 250.76166089, 0.25); display: inline;' title='{{ query }}'>How can I be more productive?</span></div></div><div style='display: flex; border-bottom: 1px solid rgba(127, 127, 127, 0.2); align-items: center;'><div style='flex: 0 0 80px; opacity: 0.5;'>assistant</div><div style='flex-grow: 1; padding: 5px; padding-top: 10px; padding-bottom: 10px; margin-top: 0px; white-space: pre-wrap; margin-bottom: 0px;'><span style='background-color: rgba(0, 165, 0, 0.25); opacity: 1.0; display: inline;' title='{{gen &#x27;result&#x27; temperature=0 max_tokens=300}}'>Set clear goals, prioritize tasks, eliminate distractions, manage your time effectively, take regular breaks, delegate tasks when possible, and stay organized.</span></div></div></pre></div>\n",
       "<script type=\"text/javascript\">(()=>{var t={296:(t,e,n)=>{var i=NaN,o=\"[object Symbol]\",r=/^\\s+|\\s+$/g,a=/^[-+]0x[0-9a-f]+$/i,s=/^0b[01]+$/i,c=/^0o[0-7]+$/i,d=parseInt,u=\"object\"==typeof n.g&&n.g&&n.g.Object===Object&&n.g,l=\"object\"==typeof self&&self&&self.Object===Object&&self,f=u||l||Function(\"return this\")(),h=Object.prototype.toString,p=Math.max,m=Math.min,g=function(){return f.Date.now()};function b(t){var e=typeof t;return!!t&&(\"object\"==e||\"function\"==e)}function y(t){if(\"number\"==typeof t)return t;if(function(t){return\"symbol\"==typeof t||function(t){return!!t&&\"object\"==typeof t}(t)&&h.call(t)==o}(t))return i;if(b(t)){var e=\"function\"==typeof t.valueOf?t.valueOf():t;t=b(e)?e+\"\":e}if(\"string\"!=typeof t)return 0===t?t:+t;t=t.replace(r,\"\");var n=s.test(t);return n||c.test(t)?d(t.slice(2),n?2:8):a.test(t)?i:+t}t.exports=function(t,e,n){var i,o,r,a,s,c,d=0,u=!1,l=!1,f=!0;if(\"function\"!=typeof t)throw new TypeError(\"Expected a function\");function h(e){var n=i,r=o;return i=o=void 0,d=e,a=t.apply(r,n)}function v(t){var n=t-c;return void 0===c||n>=e||n<0||l&&t-d>=r}function _(){var t=g();if(v(t))return w(t);s=setTimeout(_,function(t){var n=e-(t-c);return l?m(n,r-(t-d)):n}(t))}function w(t){return s=void 0,f&&i?h(t):(i=o=void 0,a)}function j(){var t=g(),n=v(t);if(i=arguments,o=this,c=t,n){if(void 0===s)return function(t){return d=t,s=setTimeout(_,e),u?h(t):a}(c);if(l)return s=setTimeout(_,e),h(c)}return void 0===s&&(s=setTimeout(_,e)),a}return e=y(e)||0,b(n)&&(u=!!n.leading,r=(l=\"maxWait\"in n)?p(y(n.maxWait)||0,e):r,f=\"trailing\"in n?!!n.trailing:f),j.cancel=function(){void 0!==s&&clearTimeout(s),d=0,i=c=o=s=void 0},j.flush=function(){return void 0===s?a:w(g())},j}},777:t=>{var e,n,i=Math.max,o=(e=function(t,e){return function(t,e,n){if(\"function\"!=typeof t)throw new TypeError(\"Expected a function\");return setTimeout((function(){t.apply(void 0,n)}),1)}(t,0,e)},n=i(void 0===n?e.length-1:n,0),function(){for(var t=arguments,o=-1,r=i(t.length-n,0),a=Array(r);++o<r;)a[o]=t[n+o];o=-1;for(var s=Array(n+1);++o<n;)s[o]=t[o];return s[n]=a,function(t,e,n){switch(n.length){case 0:return t.call(e);case 1:return t.call(e,n[0]);case 2:return t.call(e,n[0],n[1]);case 3:return t.call(e,n[0],n[1],n[2])}return t.apply(e,n)}(e,this,s)});t.exports=o}},e={};function n(i){var o=e[i];if(void 0!==o)return o.exports;var r=e[i]={exports:{}};return t[i](r,r.exports,n),r.exports}n.n=t=>{var e=t&&t.__esModule?()=>t.default:()=>t;return n.d(e,{a:e}),e},n.d=(t,e)=>{for(var i in e)n.o(e,i)&&!n.o(t,i)&&Object.defineProperty(t,i,{enumerable:!0,get:e[i]})},n.g=function(){if(\"object\"==typeof globalThis)return globalThis;try{return this||new Function(\"return this\")()}catch(t){if(\"object\"==typeof window)return window}}(),n.o=(t,e)=>Object.prototype.hasOwnProperty.call(t,e),(()=>{\"use strict\";const t=t=>{const e=new Set;do{for(const n of Reflect.ownKeys(t))e.add([t,n])}while((t=Reflect.getPrototypeOf(t))&&t!==Object.prototype);return e};function e(e,{include:n,exclude:i}={}){const o=t=>{const e=e=>\"string\"==typeof e?t===e:e.test(t);return n?n.some(e):!i||!i.some(e)};for(const[n,i]of t(e.constructor.prototype)){if(\"constructor\"===i||!o(i))continue;const t=Reflect.getOwnPropertyDescriptor(n,i);t&&\"function\"==typeof t.value&&(e[i]=e[i].bind(e))}return e}var i=n(777),o=n.n(i),r=n(296),a=n.n(r);class s{constructor(t,n){e(this),this.interfaceId=t,this.callbackMap={},this.data={},this.pendingData={},this.jcomm=new c(\"Compiler_interface_target_\"+this.interfaceId,this.updateData,\"open\"),this.debouncedSendPendingData500=a()(this.sendPendingData,500),this.debouncedSendPendingData1000=a()(this.sendPendingData,1e3),n&&o()(n)}send(t,e){this.addPendingData(t,e),this.sendPendingData()}sendEvent(t){for(const e of Object.keys(t))this.addPendingData(e,t[e]);this.sendPendingData()}debouncedSendEvent500(t){for(const e of Object.keys(t))this.addPendingData(e,t[e]);this.debouncedSendPendingData500()}debouncedSend500(t,e){this.addPendingData(t,e),this.debouncedSendPendingData500()}debouncedSend1000(t,e){this.addPendingData(t,e),this.debouncedSendPendingData1000()}addPendingData(t,e){Array.isArray(t)||(t=[t]);for(const n in t)this.pendingData[t[n]]=e}updateData(t){t=JSON.parse(t.data);for(const e in t)this.data[e]=t[e];for(const e in t)e in this.callbackMap&&this.callbackMap[e](this.data[e])}subscribe(t,e){this.callbackMap[t]=e,o()((e=>this.callbackMap[t](this.data[t])))}sendPendingData(){this.jcomm.send_data(this.pendingData),this.pendingData={}}}class c{constructor(t,e,n=\"open\"){this._fire_callback=this._fire_callback.bind(this),this._register=this._register.bind(this),this.jcomm=void 0,this.callback=e,void 0!==window.Jupyter?\"register\"===n?Jupyter.notebook.kernel.comm_manager.register_target(t,this._register):(this.jcomm=Jupyter.notebook.kernel.comm_manager.new_comm(t),this.jcomm.on_msg(this._fire_callback)):void 0!==window._mgr&&(\"register\"===n?window._mgr.widgetManager.proxyKernel.registerCommTarget(t,this._register):(this.jcomm=window._mgr.widgetManager.proxyKernel.createComm(t),this.jcomm.open({},\"\"),this.jcomm.onMsg=this._fire_callback))}send_data(t){void 0!==this.jcomm?this.jcomm.send(t):console.error(\"Jupyter comm module not yet loaded! So we can't send the message.\")}_register(t,e){this.jcomm=t,this.jcomm.on_msg(this._fire_callback)}_fire_callback(t){this.callback(t.content.data)}}class d{constructor(t,n){e(this),this.id=t,this.comm=new s(t),this.comm.subscribe(\"append\",this.appendData),this.comm.subscribe(\"replace\",this.replaceData),this.comm.subscribe(\"event\",this.eventOccurred),this.element=document.getElementById(\"Compiler-content-\"+t),this.stop_button=document.getElementById(\"Compiler-stop-button-\"+t),this.stop_button.onclick=()=>this.comm.send(\"event\",\"stop\")}appendData(t){t&&(this.stop_button.style.display=\"inline-block\",this.element.innerHTML+=t)}replaceData(t){t&&(this.stop_button.style.display=\"inline-block\",this.element.innerHTML=t)}eventOccurred(t){\"complete\"===t&&(this.stop_button.style.display=\"none\")}}window._CompilerDisplay=function(t,e){return new d(t,e)}})()})();; window._engineDisplay(\"27f754ca-b9eb-451e-bb6e-3d1c46eb580a\");</script>"
      ]
     },
     "metadata": {},
     "output_type": "display_data"
    },
    {
     "name": "stdout",
     "output_type": "stream",
     "text": [
      "memory=llm=<nextpy.ai.engine.llms._openai.OpenAI object at 0x7f309b2f32d0> memory_threshold=1 messages=[{'prompt': 'How can I be more productive?', 'llm_response': 'Set clear goals, prioritize tasks, eliminate distractions, manage your time effectively, take regular breaks, delegate tasks when possible, and stay organized.'}] current_summary='' messages_in_summary=[]\n"
     ]
    }
   ],
   "source": [
    "query='How can I be more productive?'\n",
    "out = experts(query=query)\n",
    "\n",
    "print(f'memory={general_testing_memory}')"
   ]
  },
  {
   "cell_type": "code",
   "execution_count": 29,
   "metadata": {},
   "outputs": [
    {
     "data": {
      "text/html": [
       "<div id=\"engine-stop-button-0beccf3b-f909-408d-89e8-cefd6579abdc\" style=\"cursor: pointer; margin: 0px; display: none; float: right; padding: 3px; border-radius: 4px 4px 4px 4px; border: 0px solid rgba(127, 127, 127, 1); padding-left: 10px; padding-right: 10px; font-size: 13px; background-color: rgba(127, 127, 127, 0.25);\">Stop program</div><div id=\"engine-content-0beccf3b-f909-408d-89e8-cefd6579abdc\"><pre style='margin: 0px; padding: 0px; padding-left: 8px; margin-left: -8px; border-radius: 0px; border-left: 1px solid rgba(127, 127, 127, 0.2); white-space: pre-wrap; font-family: ColfaxAI, Arial; font-size: 15px; line-height: 23px;'><div style='display: flex; border-bottom: 1px solid rgba(127, 127, 127, 0.2); align-items: center;'><div style='flex: 0 0 80px; opacity: 0.5;'>system</div><div style='flex-grow: 1; padding: 5px; padding-top: 10px; padding-bottom: 10px; margin-top: 0px; white-space: pre-wrap; margin-bottom: 0px;'>You are a helpful and terse assistant.\n",
       "<span style='background-color: rgba(0, 138.56128016, 250.76166089, 0.25); display: inline;' title='{{ ConversationHistory }}'>Current conversation:\n",
       "se assistant.</span></div></div><div style='display: flex; border-bottom: 1px solid rgba(127, 127, 127, 0.2); align-items: center;'><div style='flex: 0 0 80px; opacity: 0.5;'>user</div><div style='flex-grow: 1; padding: 5px; padding-top: 10px; padding-bottom: 10px; margin-top: 0px; white-space: pre-wrap; margin-bottom: 0px;'><span style='background-color: rgba(0, 138.56128016, 250.76166089, 0.25); display: inline;' title='{{ query }}'>Can you give me more suggestions on this topic?</span></div></div><div style='display: flex; border-bottom: 1px solid rgba(127, 127, 127, 0.2); align-items: center;'><div style='flex: 0 0 80px; opacity: 0.5;'>assistant</div><div style='flex-grow: 1; padding: 5px; padding-top: 10px; padding-bottom: 10px; margin-top: 0px; white-space: pre-wrap; margin-bottom: 0px;'><span style='background-color: rgba(0, 165, 0, 0.25); opacity: 1.0; display: inline;' title='{{gen &#x27;result&#x27; temperature=0 max_tokens=300}}'>Sure, what topic are you referring to?</span></div></div></pre></div>\n",
       "<script type=\"text/javascript\">(()=>{var t={296:(t,e,n)=>{var i=NaN,o=\"[object Symbol]\",r=/^\\s+|\\s+$/g,a=/^[-+]0x[0-9a-f]+$/i,s=/^0b[01]+$/i,c=/^0o[0-7]+$/i,d=parseInt,u=\"object\"==typeof n.g&&n.g&&n.g.Object===Object&&n.g,l=\"object\"==typeof self&&self&&self.Object===Object&&self,f=u||l||Function(\"return this\")(),h=Object.prototype.toString,p=Math.max,m=Math.min,g=function(){return f.Date.now()};function b(t){var e=typeof t;return!!t&&(\"object\"==e||\"function\"==e)}function y(t){if(\"number\"==typeof t)return t;if(function(t){return\"symbol\"==typeof t||function(t){return!!t&&\"object\"==typeof t}(t)&&h.call(t)==o}(t))return i;if(b(t)){var e=\"function\"==typeof t.valueOf?t.valueOf():t;t=b(e)?e+\"\":e}if(\"string\"!=typeof t)return 0===t?t:+t;t=t.replace(r,\"\");var n=s.test(t);return n||c.test(t)?d(t.slice(2),n?2:8):a.test(t)?i:+t}t.exports=function(t,e,n){var i,o,r,a,s,c,d=0,u=!1,l=!1,f=!0;if(\"function\"!=typeof t)throw new TypeError(\"Expected a function\");function h(e){var n=i,r=o;return i=o=void 0,d=e,a=t.apply(r,n)}function v(t){var n=t-c;return void 0===c||n>=e||n<0||l&&t-d>=r}function _(){var t=g();if(v(t))return w(t);s=setTimeout(_,function(t){var n=e-(t-c);return l?m(n,r-(t-d)):n}(t))}function w(t){return s=void 0,f&&i?h(t):(i=o=void 0,a)}function j(){var t=g(),n=v(t);if(i=arguments,o=this,c=t,n){if(void 0===s)return function(t){return d=t,s=setTimeout(_,e),u?h(t):a}(c);if(l)return s=setTimeout(_,e),h(c)}return void 0===s&&(s=setTimeout(_,e)),a}return e=y(e)||0,b(n)&&(u=!!n.leading,r=(l=\"maxWait\"in n)?p(y(n.maxWait)||0,e):r,f=\"trailing\"in n?!!n.trailing:f),j.cancel=function(){void 0!==s&&clearTimeout(s),d=0,i=c=o=s=void 0},j.flush=function(){return void 0===s?a:w(g())},j}},777:t=>{var e,n,i=Math.max,o=(e=function(t,e){return function(t,e,n){if(\"function\"!=typeof t)throw new TypeError(\"Expected a function\");return setTimeout((function(){t.apply(void 0,n)}),1)}(t,0,e)},n=i(void 0===n?e.length-1:n,0),function(){for(var t=arguments,o=-1,r=i(t.length-n,0),a=Array(r);++o<r;)a[o]=t[n+o];o=-1;for(var s=Array(n+1);++o<n;)s[o]=t[o];return s[n]=a,function(t,e,n){switch(n.length){case 0:return t.call(e);case 1:return t.call(e,n[0]);case 2:return t.call(e,n[0],n[1]);case 3:return t.call(e,n[0],n[1],n[2])}return t.apply(e,n)}(e,this,s)});t.exports=o}},e={};function n(i){var o=e[i];if(void 0!==o)return o.exports;var r=e[i]={exports:{}};return t[i](r,r.exports,n),r.exports}n.n=t=>{var e=t&&t.__esModule?()=>t.default:()=>t;return n.d(e,{a:e}),e},n.d=(t,e)=>{for(var i in e)n.o(e,i)&&!n.o(t,i)&&Object.defineProperty(t,i,{enumerable:!0,get:e[i]})},n.g=function(){if(\"object\"==typeof globalThis)return globalThis;try{return this||new Function(\"return this\")()}catch(t){if(\"object\"==typeof window)return window}}(),n.o=(t,e)=>Object.prototype.hasOwnProperty.call(t,e),(()=>{\"use strict\";const t=t=>{const e=new Set;do{for(const n of Reflect.ownKeys(t))e.add([t,n])}while((t=Reflect.getPrototypeOf(t))&&t!==Object.prototype);return e};function e(e,{include:n,exclude:i}={}){const o=t=>{const e=e=>\"string\"==typeof e?t===e:e.test(t);return n?n.some(e):!i||!i.some(e)};for(const[n,i]of t(e.constructor.prototype)){if(\"constructor\"===i||!o(i))continue;const t=Reflect.getOwnPropertyDescriptor(n,i);t&&\"function\"==typeof t.value&&(e[i]=e[i].bind(e))}return e}var i=n(777),o=n.n(i),r=n(296),a=n.n(r);class s{constructor(t,n){e(this),this.interfaceId=t,this.callbackMap={},this.data={},this.pendingData={},this.jcomm=new c(\"Compiler_interface_target_\"+this.interfaceId,this.updateData,\"open\"),this.debouncedSendPendingData500=a()(this.sendPendingData,500),this.debouncedSendPendingData1000=a()(this.sendPendingData,1e3),n&&o()(n)}send(t,e){this.addPendingData(t,e),this.sendPendingData()}sendEvent(t){for(const e of Object.keys(t))this.addPendingData(e,t[e]);this.sendPendingData()}debouncedSendEvent500(t){for(const e of Object.keys(t))this.addPendingData(e,t[e]);this.debouncedSendPendingData500()}debouncedSend500(t,e){this.addPendingData(t,e),this.debouncedSendPendingData500()}debouncedSend1000(t,e){this.addPendingData(t,e),this.debouncedSendPendingData1000()}addPendingData(t,e){Array.isArray(t)||(t=[t]);for(const n in t)this.pendingData[t[n]]=e}updateData(t){t=JSON.parse(t.data);for(const e in t)this.data[e]=t[e];for(const e in t)e in this.callbackMap&&this.callbackMap[e](this.data[e])}subscribe(t,e){this.callbackMap[t]=e,o()((e=>this.callbackMap[t](this.data[t])))}sendPendingData(){this.jcomm.send_data(this.pendingData),this.pendingData={}}}class c{constructor(t,e,n=\"open\"){this._fire_callback=this._fire_callback.bind(this),this._register=this._register.bind(this),this.jcomm=void 0,this.callback=e,void 0!==window.Jupyter?\"register\"===n?Jupyter.notebook.kernel.comm_manager.register_target(t,this._register):(this.jcomm=Jupyter.notebook.kernel.comm_manager.new_comm(t),this.jcomm.on_msg(this._fire_callback)):void 0!==window._mgr&&(\"register\"===n?window._mgr.widgetManager.proxyKernel.registerCommTarget(t,this._register):(this.jcomm=window._mgr.widgetManager.proxyKernel.createComm(t),this.jcomm.open({},\"\"),this.jcomm.onMsg=this._fire_callback))}send_data(t){void 0!==this.jcomm?this.jcomm.send(t):console.error(\"Jupyter comm module not yet loaded! So we can't send the message.\")}_register(t,e){this.jcomm=t,this.jcomm.on_msg(this._fire_callback)}_fire_callback(t){this.callback(t.content.data)}}class d{constructor(t,n){e(this),this.id=t,this.comm=new s(t),this.comm.subscribe(\"append\",this.appendData),this.comm.subscribe(\"replace\",this.replaceData),this.comm.subscribe(\"event\",this.eventOccurred),this.element=document.getElementById(\"Compiler-content-\"+t),this.stop_button=document.getElementById(\"Compiler-stop-button-\"+t),this.stop_button.onclick=()=>this.comm.send(\"event\",\"stop\")}appendData(t){t&&(this.stop_button.style.display=\"inline-block\",this.element.innerHTML+=t)}replaceData(t){t&&(this.stop_button.style.display=\"inline-block\",this.element.innerHTML=t)}eventOccurred(t){\"complete\"===t&&(this.stop_button.style.display=\"none\")}}window._CompilerDisplay=function(t,e){return new d(t,e)}})()})();; window._engineDisplay(\"0beccf3b-f909-408d-89e8-cefd6579abdc\");</script>"
      ]
     },
     "metadata": {},
     "output_type": "display_data"
    },
    {
     "name": "stdout",
     "output_type": "stream",
     "text": [
      "memory=llm=<nextpy.ai.engine.llms._openai.OpenAI object at 0x7f309b2f32d0> memory_threshold=1 messages=[{'prompt': 'How can I be more productive?', 'llm_response': 'Set clear goals, prioritize tasks, eliminate distractions, manage your time effectively, take regular breaks, delegate tasks when possible, and stay organized.'}, {'prompt': 'Can you give me more suggestions on this topic?', 'llm_response': 'Sure, what topic are you referring to?'}] current_summary='se assistant.' messages_in_summary=[{'prompt': 'How can I be more productive?', 'llm_response': 'Set clear goals, prioritize tasks, eliminate distractions, manage your time effectively, take regular breaks, delegate tasks when possible, and stay organized.'}]\n"
     ]
    }
   ],
   "source": [
    "query2='Can you give me more suggestions on this topic?'\n",
    "out2 = experts(query=query2)\n",
    "print(f'memory={general_testing_memory}')"
   ]
  },
  {
   "cell_type": "code",
   "execution_count": 30,
   "metadata": {},
   "outputs": [
    {
     "data": {
      "text/html": [
       "<div id=\"engine-stop-button-ac30e3ba-7408-4b2e-898c-21f2e6c86a63\" style=\"cursor: pointer; margin: 0px; display: none; float: right; padding: 3px; border-radius: 4px 4px 4px 4px; border: 0px solid rgba(127, 127, 127, 1); padding-left: 10px; padding-right: 10px; font-size: 13px; background-color: rgba(127, 127, 127, 0.25);\">Stop program</div><div id=\"engine-content-ac30e3ba-7408-4b2e-898c-21f2e6c86a63\"><pre style='margin: 0px; padding: 0px; padding-left: 8px; margin-left: -8px; border-radius: 0px; border-left: 1px solid rgba(127, 127, 127, 0.2); white-space: pre-wrap; font-family: ColfaxAI, Arial; font-size: 15px; line-height: 23px;'><div style='display: flex; border-bottom: 1px solid rgba(127, 127, 127, 0.2); align-items: center;'><div style='flex: 0 0 80px; opacity: 0.5;'>system</div><div style='flex-grow: 1; padding: 5px; padding-top: 10px; padding-bottom: 10px; margin-top: 0px; white-space: pre-wrap; margin-bottom: 0px;'>You are a helpful and terse assistant.\n",
       "<span style='background-color: rgba(0, 138.56128016, 250.76166089, 0.25); display: inline;' title='{{ ConversationHistory }}'>Current conversation:\n",
       "se assistant.</span></div></div><div style='display: flex; border-bottom: 1px solid rgba(127, 127, 127, 0.2); align-items: center;'><div style='flex: 0 0 80px; opacity: 0.5;'>user</div><div style='flex-grow: 1; padding: 5px; padding-top: 10px; padding-bottom: 10px; margin-top: 0px; white-space: pre-wrap; margin-bottom: 0px;'><span style='background-color: rgba(0, 138.56128016, 250.76166089, 0.25); display: inline;' title='{{ query }}'>Make an action plan for me to achieve this.</span></div></div><div style='display: flex; border-bottom: 1px solid rgba(127, 127, 127, 0.2); align-items: center;'><div style='flex: 0 0 80px; opacity: 0.5;'>assistant</div><div style='flex-grow: 1; padding: 5px; padding-top: 10px; padding-bottom: 10px; margin-top: 0px; white-space: pre-wrap; margin-bottom: 0px;'><span style='background-color: rgba(0, 165, 0, 0.25); opacity: 1.0; display: inline;' title='{{gen &#x27;result&#x27; temperature=0 max_tokens=300}}'>1. Define your goal: Clearly identify what you want to achieve. Be specific and measurable.\n",
       "\n",
       "2. Break it down: Divide your goal into smaller, manageable tasks or milestones. This will make it easier to track progress and stay motivated.\n",
       "\n",
       "3. Set deadlines: Assign realistic deadlines to each task or milestone. This will help you stay focused and ensure that you make steady progress towards your goal.\n",
       "\n",
       "4. Prioritize: Determine which tasks or milestones are most important and should be completed first. This will help you stay organized and avoid feeling overwhelmed.\n",
       "\n",
       "5. Create a schedule: Allocate specific time slots in your calendar to work on each task or milestone. Treat these time slots as non-negotiable commitments to yourself.\n",
       "\n",
       "6. Take action: Start working on your action plan immediately. Don&#x27;t wait for the &quot;perfect&quot; moment or for everything to be in place. Just get started and adjust as you go along.\n",
       "\n",
       "7. Monitor progress: Regularly review your progress against the deadlines you set. Celebrate your achievements and make any necessary adjustments to your plan if you&#x27;re falling behind.\n",
       "\n",
       "8. Stay motivated: Find ways to stay motivated throughout the process. This could include rewarding yourself for completing tasks, seeking support from friends or family, or visualizing the end result.\n",
       "\n",
       "9. Stay flexible: Be open to adjusting your plan if needed. Sometimes unexpected obstacles or opportunities may arise, and it&#x27;s important to adapt and make necessary changes.\n",
       "\n",
       "10. Stay committed: Remember why you set this goal in the</span></div></div></pre></div>\n",
       "<script type=\"text/javascript\">(()=>{var t={296:(t,e,n)=>{var i=NaN,o=\"[object Symbol]\",r=/^\\s+|\\s+$/g,a=/^[-+]0x[0-9a-f]+$/i,s=/^0b[01]+$/i,c=/^0o[0-7]+$/i,d=parseInt,u=\"object\"==typeof n.g&&n.g&&n.g.Object===Object&&n.g,l=\"object\"==typeof self&&self&&self.Object===Object&&self,f=u||l||Function(\"return this\")(),h=Object.prototype.toString,p=Math.max,m=Math.min,g=function(){return f.Date.now()};function b(t){var e=typeof t;return!!t&&(\"object\"==e||\"function\"==e)}function y(t){if(\"number\"==typeof t)return t;if(function(t){return\"symbol\"==typeof t||function(t){return!!t&&\"object\"==typeof t}(t)&&h.call(t)==o}(t))return i;if(b(t)){var e=\"function\"==typeof t.valueOf?t.valueOf():t;t=b(e)?e+\"\":e}if(\"string\"!=typeof t)return 0===t?t:+t;t=t.replace(r,\"\");var n=s.test(t);return n||c.test(t)?d(t.slice(2),n?2:8):a.test(t)?i:+t}t.exports=function(t,e,n){var i,o,r,a,s,c,d=0,u=!1,l=!1,f=!0;if(\"function\"!=typeof t)throw new TypeError(\"Expected a function\");function h(e){var n=i,r=o;return i=o=void 0,d=e,a=t.apply(r,n)}function v(t){var n=t-c;return void 0===c||n>=e||n<0||l&&t-d>=r}function _(){var t=g();if(v(t))return w(t);s=setTimeout(_,function(t){var n=e-(t-c);return l?m(n,r-(t-d)):n}(t))}function w(t){return s=void 0,f&&i?h(t):(i=o=void 0,a)}function j(){var t=g(),n=v(t);if(i=arguments,o=this,c=t,n){if(void 0===s)return function(t){return d=t,s=setTimeout(_,e),u?h(t):a}(c);if(l)return s=setTimeout(_,e),h(c)}return void 0===s&&(s=setTimeout(_,e)),a}return e=y(e)||0,b(n)&&(u=!!n.leading,r=(l=\"maxWait\"in n)?p(y(n.maxWait)||0,e):r,f=\"trailing\"in n?!!n.trailing:f),j.cancel=function(){void 0!==s&&clearTimeout(s),d=0,i=c=o=s=void 0},j.flush=function(){return void 0===s?a:w(g())},j}},777:t=>{var e,n,i=Math.max,o=(e=function(t,e){return function(t,e,n){if(\"function\"!=typeof t)throw new TypeError(\"Expected a function\");return setTimeout((function(){t.apply(void 0,n)}),1)}(t,0,e)},n=i(void 0===n?e.length-1:n,0),function(){for(var t=arguments,o=-1,r=i(t.length-n,0),a=Array(r);++o<r;)a[o]=t[n+o];o=-1;for(var s=Array(n+1);++o<n;)s[o]=t[o];return s[n]=a,function(t,e,n){switch(n.length){case 0:return t.call(e);case 1:return t.call(e,n[0]);case 2:return t.call(e,n[0],n[1]);case 3:return t.call(e,n[0],n[1],n[2])}return t.apply(e,n)}(e,this,s)});t.exports=o}},e={};function n(i){var o=e[i];if(void 0!==o)return o.exports;var r=e[i]={exports:{}};return t[i](r,r.exports,n),r.exports}n.n=t=>{var e=t&&t.__esModule?()=>t.default:()=>t;return n.d(e,{a:e}),e},n.d=(t,e)=>{for(var i in e)n.o(e,i)&&!n.o(t,i)&&Object.defineProperty(t,i,{enumerable:!0,get:e[i]})},n.g=function(){if(\"object\"==typeof globalThis)return globalThis;try{return this||new Function(\"return this\")()}catch(t){if(\"object\"==typeof window)return window}}(),n.o=(t,e)=>Object.prototype.hasOwnProperty.call(t,e),(()=>{\"use strict\";const t=t=>{const e=new Set;do{for(const n of Reflect.ownKeys(t))e.add([t,n])}while((t=Reflect.getPrototypeOf(t))&&t!==Object.prototype);return e};function e(e,{include:n,exclude:i}={}){const o=t=>{const e=e=>\"string\"==typeof e?t===e:e.test(t);return n?n.some(e):!i||!i.some(e)};for(const[n,i]of t(e.constructor.prototype)){if(\"constructor\"===i||!o(i))continue;const t=Reflect.getOwnPropertyDescriptor(n,i);t&&\"function\"==typeof t.value&&(e[i]=e[i].bind(e))}return e}var i=n(777),o=n.n(i),r=n(296),a=n.n(r);class s{constructor(t,n){e(this),this.interfaceId=t,this.callbackMap={},this.data={},this.pendingData={},this.jcomm=new c(\"Compiler_interface_target_\"+this.interfaceId,this.updateData,\"open\"),this.debouncedSendPendingData500=a()(this.sendPendingData,500),this.debouncedSendPendingData1000=a()(this.sendPendingData,1e3),n&&o()(n)}send(t,e){this.addPendingData(t,e),this.sendPendingData()}sendEvent(t){for(const e of Object.keys(t))this.addPendingData(e,t[e]);this.sendPendingData()}debouncedSendEvent500(t){for(const e of Object.keys(t))this.addPendingData(e,t[e]);this.debouncedSendPendingData500()}debouncedSend500(t,e){this.addPendingData(t,e),this.debouncedSendPendingData500()}debouncedSend1000(t,e){this.addPendingData(t,e),this.debouncedSendPendingData1000()}addPendingData(t,e){Array.isArray(t)||(t=[t]);for(const n in t)this.pendingData[t[n]]=e}updateData(t){t=JSON.parse(t.data);for(const e in t)this.data[e]=t[e];for(const e in t)e in this.callbackMap&&this.callbackMap[e](this.data[e])}subscribe(t,e){this.callbackMap[t]=e,o()((e=>this.callbackMap[t](this.data[t])))}sendPendingData(){this.jcomm.send_data(this.pendingData),this.pendingData={}}}class c{constructor(t,e,n=\"open\"){this._fire_callback=this._fire_callback.bind(this),this._register=this._register.bind(this),this.jcomm=void 0,this.callback=e,void 0!==window.Jupyter?\"register\"===n?Jupyter.notebook.kernel.comm_manager.register_target(t,this._register):(this.jcomm=Jupyter.notebook.kernel.comm_manager.new_comm(t),this.jcomm.on_msg(this._fire_callback)):void 0!==window._mgr&&(\"register\"===n?window._mgr.widgetManager.proxyKernel.registerCommTarget(t,this._register):(this.jcomm=window._mgr.widgetManager.proxyKernel.createComm(t),this.jcomm.open({},\"\"),this.jcomm.onMsg=this._fire_callback))}send_data(t){void 0!==this.jcomm?this.jcomm.send(t):console.error(\"Jupyter comm module not yet loaded! So we can't send the message.\")}_register(t,e){this.jcomm=t,this.jcomm.on_msg(this._fire_callback)}_fire_callback(t){this.callback(t.content.data)}}class d{constructor(t,n){e(this),this.id=t,this.comm=new s(t),this.comm.subscribe(\"append\",this.appendData),this.comm.subscribe(\"replace\",this.replaceData),this.comm.subscribe(\"event\",this.eventOccurred),this.element=document.getElementById(\"Compiler-content-\"+t),this.stop_button=document.getElementById(\"Compiler-stop-button-\"+t),this.stop_button.onclick=()=>this.comm.send(\"event\",\"stop\")}appendData(t){t&&(this.stop_button.style.display=\"inline-block\",this.element.innerHTML+=t)}replaceData(t){t&&(this.stop_button.style.display=\"inline-block\",this.element.innerHTML=t)}eventOccurred(t){\"complete\"===t&&(this.stop_button.style.display=\"none\")}}window._CompilerDisplay=function(t,e){return new d(t,e)}})()})();; window._engineDisplay(\"ac30e3ba-7408-4b2e-898c-21f2e6c86a63\");</script>"
      ]
     },
     "metadata": {},
     "output_type": "display_data"
    },
    {
     "name": "stdout",
     "output_type": "stream",
     "text": [
      "memory=llm=<nextpy.ai.engine.llms._openai.OpenAI object at 0x7f309b2f32d0> memory_threshold=1 messages=[{'prompt': 'How can I be more productive?', 'llm_response': 'Set clear goals, prioritize tasks, eliminate distractions, manage your time effectively, take regular breaks, delegate tasks when possible, and stay organized.'}, {'prompt': 'Can you give me more suggestions on this topic?', 'llm_response': 'Sure, what topic are you referring to?'}, {'prompt': 'Make an action plan for me to achieve this.', 'llm_response': '1. Define your goal: Clearly identify what you want to achieve. Be specific and measurable.\\n\\n2. Break it down: Divide your goal into smaller, manageable tasks or milestones. This will make it easier to track progress and stay motivated.\\n\\n3. Set deadlines: Assign realistic deadlines to each task or milestone. This will help you stay focused and ensure that you make steady progress towards your goal.\\n\\n4. Prioritize: Determine which tasks or milestones are most important and should be completed first. This will help you stay organized and avoid feeling overwhelmed.\\n\\n5. Create a schedule: Allocate specific time slots in your calendar to work on each task or milestone. Treat these time slots as non-negotiable commitments to yourself.\\n\\n6. Take action: Start working on your action plan immediately. Don\\'t wait for the \"perfect\" moment or for everything to be in place. Just get started and adjust as you go along.\\n\\n7. Monitor progress: Regularly review your progress against the deadlines you set. Celebrate your achievements and make any necessary adjustments to your plan if you\\'re falling behind.\\n\\n8. Stay motivated: Find ways to stay motivated throughout the process. This could include rewarding yourself for completing tasks, seeking support from friends or family, or visualizing the end result.\\n\\n9. Stay flexible: Be open to adjusting your plan if needed. Sometimes unexpected obstacles or opportunities may arise, and it\\'s important to adapt and make necessary changes.\\n\\n10. Stay committed: Remember why you set this goal in the'}] current_summary='se assistant.' messages_in_summary=[{'prompt': 'How can I be more productive?', 'llm_response': 'Set clear goals, prioritize tasks, eliminate distractions, manage your time effectively, take regular breaks, delegate tasks when possible, and stay organized.'}, {'prompt': 'Can you give me more suggestions on this topic?', 'llm_response': 'Sure, what topic are you referring to?'}]\n"
     ]
    }
   ],
   "source": [
    "query2='Make an action plan for me to achieve this.'\n",
    "out2 = experts(query=query2)\n",
    "print(f'memory={general_testing_memory}')\n"
   ]
  },
  {
   "cell_type": "code",
   "execution_count": 37,
   "metadata": {},
   "outputs": [
    {
     "data": {
      "text/html": [
       "<div id=\"engine-stop-button-a56db0a2-9165-4e74-848c-e29bd6e2686f\" style=\"cursor: pointer; margin: 0px; display: none; float: right; padding: 3px; border-radius: 4px 4px 4px 4px; border: 0px solid rgba(127, 127, 127, 1); padding-left: 10px; padding-right: 10px; font-size: 13px; background-color: rgba(127, 127, 127, 0.25);\">Stop program</div><div id=\"engine-content-a56db0a2-9165-4e74-848c-e29bd6e2686f\"><pre style='margin: 0px; padding: 0px; padding-left: 8px; margin-left: -8px; border-radius: 0px; border-left: 1px solid rgba(127, 127, 127, 0.2); white-space: pre-wrap; font-family: ColfaxAI, Arial; font-size: 15px; line-height: 23px;'><div style='display: flex; border-bottom: 1px solid rgba(127, 127, 127, 0.2); align-items: center;'><div style='flex: 0 0 80px; opacity: 0.5;'>system</div><div style='flex-grow: 1; padding: 5px; padding-top: 10px; padding-bottom: 10px; margin-top: 0px; white-space: pre-wrap; margin-bottom: 0px;'>You are a helpful and terse assistant.\n",
       "<span style='background-color: rgba(0, 138.56128016, 250.76166089, 0.25); display: inline;' title='{{ ConversationHistory }}'></span></div></div><div style='display: flex; border-bottom: 1px solid rgba(127, 127, 127, 0.2); align-items: center;'><div style='flex: 0 0 80px; opacity: 0.5;'>user</div><div style='flex-grow: 1; padding: 5px; padding-top: 10px; padding-bottom: 10px; margin-top: 0px; white-space: pre-wrap; margin-bottom: 0px;'><span style='background-color: rgba(0, 138.56128016, 250.76166089, 0.25); display: inline;' title='{{ query }}'>Suggest me books to read on this cat.</span></div></div><div style='display: flex; border-bottom: 1px solid rgba(127, 127, 127, 0.2); align-items: center;'><div style='flex: 0 0 80px; opacity: 0.5;'>assistant</div><div style='flex-grow: 1; padding: 5px; padding-top: 10px; padding-bottom: 10px; margin-top: 0px; white-space: pre-wrap; margin-bottom: 0px;'><span style='background-color: rgba(0, 165, 0, 0.25); opacity: 1.0; display: inline;' title='{{gen &#x27;result&#x27; temperature=0 max_tokens=300}}'>1. &quot;The Cat in the Hat&quot; by Dr. Seuss\n",
       "2. &quot;Old Possum&#x27;s Book of Practical Cats&quot; by T.S. Eliot\n",
       "3. &quot;Dewey: The Small-Town Library Cat Who Touched the World&quot; by Vicki Myron\n",
       "4. &quot;A Street Cat Named Bob&quot; by James Bowen\n",
       "5. &quot;Cat&#x27;s Eye&quot; by Margaret Atwood\n",
       "6. &quot;The Guest Cat&quot; by Takashi Hiraide\n",
       "7. &quot;The Cat Who Could Read Backwards&quot; by Lilian Jackson Braun\n",
       "8. &quot;The Cat Who Went to Heaven&quot; by Elizabeth Coatsworth\n",
       "9. &quot;The Cat Who Came for Christmas&quot; by Cleveland Amory\n",
       "10. &quot;The Cat&#x27;s Table&quot; by Michael Ondaatje</span></div></div></pre></div>\n",
       "<script type=\"text/javascript\">(()=>{var t={296:(t,e,n)=>{var i=NaN,o=\"[object Symbol]\",r=/^\\s+|\\s+$/g,a=/^[-+]0x[0-9a-f]+$/i,s=/^0b[01]+$/i,c=/^0o[0-7]+$/i,d=parseInt,u=\"object\"==typeof n.g&&n.g&&n.g.Object===Object&&n.g,l=\"object\"==typeof self&&self&&self.Object===Object&&self,f=u||l||Function(\"return this\")(),h=Object.prototype.toString,p=Math.max,m=Math.min,g=function(){return f.Date.now()};function b(t){var e=typeof t;return!!t&&(\"object\"==e||\"function\"==e)}function y(t){if(\"number\"==typeof t)return t;if(function(t){return\"symbol\"==typeof t||function(t){return!!t&&\"object\"==typeof t}(t)&&h.call(t)==o}(t))return i;if(b(t)){var e=\"function\"==typeof t.valueOf?t.valueOf():t;t=b(e)?e+\"\":e}if(\"string\"!=typeof t)return 0===t?t:+t;t=t.replace(r,\"\");var n=s.test(t);return n||c.test(t)?d(t.slice(2),n?2:8):a.test(t)?i:+t}t.exports=function(t,e,n){var i,o,r,a,s,c,d=0,u=!1,l=!1,f=!0;if(\"function\"!=typeof t)throw new TypeError(\"Expected a function\");function h(e){var n=i,r=o;return i=o=void 0,d=e,a=t.apply(r,n)}function v(t){var n=t-c;return void 0===c||n>=e||n<0||l&&t-d>=r}function _(){var t=g();if(v(t))return w(t);s=setTimeout(_,function(t){var n=e-(t-c);return l?m(n,r-(t-d)):n}(t))}function w(t){return s=void 0,f&&i?h(t):(i=o=void 0,a)}function j(){var t=g(),n=v(t);if(i=arguments,o=this,c=t,n){if(void 0===s)return function(t){return d=t,s=setTimeout(_,e),u?h(t):a}(c);if(l)return s=setTimeout(_,e),h(c)}return void 0===s&&(s=setTimeout(_,e)),a}return e=y(e)||0,b(n)&&(u=!!n.leading,r=(l=\"maxWait\"in n)?p(y(n.maxWait)||0,e):r,f=\"trailing\"in n?!!n.trailing:f),j.cancel=function(){void 0!==s&&clearTimeout(s),d=0,i=c=o=s=void 0},j.flush=function(){return void 0===s?a:w(g())},j}},777:t=>{var e,n,i=Math.max,o=(e=function(t,e){return function(t,e,n){if(\"function\"!=typeof t)throw new TypeError(\"Expected a function\");return setTimeout((function(){t.apply(void 0,n)}),1)}(t,0,e)},n=i(void 0===n?e.length-1:n,0),function(){for(var t=arguments,o=-1,r=i(t.length-n,0),a=Array(r);++o<r;)a[o]=t[n+o];o=-1;for(var s=Array(n+1);++o<n;)s[o]=t[o];return s[n]=a,function(t,e,n){switch(n.length){case 0:return t.call(e);case 1:return t.call(e,n[0]);case 2:return t.call(e,n[0],n[1]);case 3:return t.call(e,n[0],n[1],n[2])}return t.apply(e,n)}(e,this,s)});t.exports=o}},e={};function n(i){var o=e[i];if(void 0!==o)return o.exports;var r=e[i]={exports:{}};return t[i](r,r.exports,n),r.exports}n.n=t=>{var e=t&&t.__esModule?()=>t.default:()=>t;return n.d(e,{a:e}),e},n.d=(t,e)=>{for(var i in e)n.o(e,i)&&!n.o(t,i)&&Object.defineProperty(t,i,{enumerable:!0,get:e[i]})},n.g=function(){if(\"object\"==typeof globalThis)return globalThis;try{return this||new Function(\"return this\")()}catch(t){if(\"object\"==typeof window)return window}}(),n.o=(t,e)=>Object.prototype.hasOwnProperty.call(t,e),(()=>{\"use strict\";const t=t=>{const e=new Set;do{for(const n of Reflect.ownKeys(t))e.add([t,n])}while((t=Reflect.getPrototypeOf(t))&&t!==Object.prototype);return e};function e(e,{include:n,exclude:i}={}){const o=t=>{const e=e=>\"string\"==typeof e?t===e:e.test(t);return n?n.some(e):!i||!i.some(e)};for(const[n,i]of t(e.constructor.prototype)){if(\"constructor\"===i||!o(i))continue;const t=Reflect.getOwnPropertyDescriptor(n,i);t&&\"function\"==typeof t.value&&(e[i]=e[i].bind(e))}return e}var i=n(777),o=n.n(i),r=n(296),a=n.n(r);class s{constructor(t,n){e(this),this.interfaceId=t,this.callbackMap={},this.data={},this.pendingData={},this.jcomm=new c(\"Compiler_interface_target_\"+this.interfaceId,this.updateData,\"open\"),this.debouncedSendPendingData500=a()(this.sendPendingData,500),this.debouncedSendPendingData1000=a()(this.sendPendingData,1e3),n&&o()(n)}send(t,e){this.addPendingData(t,e),this.sendPendingData()}sendEvent(t){for(const e of Object.keys(t))this.addPendingData(e,t[e]);this.sendPendingData()}debouncedSendEvent500(t){for(const e of Object.keys(t))this.addPendingData(e,t[e]);this.debouncedSendPendingData500()}debouncedSend500(t,e){this.addPendingData(t,e),this.debouncedSendPendingData500()}debouncedSend1000(t,e){this.addPendingData(t,e),this.debouncedSendPendingData1000()}addPendingData(t,e){Array.isArray(t)||(t=[t]);for(const n in t)this.pendingData[t[n]]=e}updateData(t){t=JSON.parse(t.data);for(const e in t)this.data[e]=t[e];for(const e in t)e in this.callbackMap&&this.callbackMap[e](this.data[e])}subscribe(t,e){this.callbackMap[t]=e,o()((e=>this.callbackMap[t](this.data[t])))}sendPendingData(){this.jcomm.send_data(this.pendingData),this.pendingData={}}}class c{constructor(t,e,n=\"open\"){this._fire_callback=this._fire_callback.bind(this),this._register=this._register.bind(this),this.jcomm=void 0,this.callback=e,void 0!==window.Jupyter?\"register\"===n?Jupyter.notebook.kernel.comm_manager.register_target(t,this._register):(this.jcomm=Jupyter.notebook.kernel.comm_manager.new_comm(t),this.jcomm.on_msg(this._fire_callback)):void 0!==window._mgr&&(\"register\"===n?window._mgr.widgetManager.proxyKernel.registerCommTarget(t,this._register):(this.jcomm=window._mgr.widgetManager.proxyKernel.createComm(t),this.jcomm.open({},\"\"),this.jcomm.onMsg=this._fire_callback))}send_data(t){void 0!==this.jcomm?this.jcomm.send(t):console.error(\"Jupyter comm module not yet loaded! So we can't send the message.\")}_register(t,e){this.jcomm=t,this.jcomm.on_msg(this._fire_callback)}_fire_callback(t){this.callback(t.content.data)}}class d{constructor(t,n){e(this),this.id=t,this.comm=new s(t),this.comm.subscribe(\"append\",this.appendData),this.comm.subscribe(\"replace\",this.replaceData),this.comm.subscribe(\"event\",this.eventOccurred),this.element=document.getElementById(\"Compiler-content-\"+t),this.stop_button=document.getElementById(\"Compiler-stop-button-\"+t),this.stop_button.onclick=()=>this.comm.send(\"event\",\"stop\")}appendData(t){t&&(this.stop_button.style.display=\"inline-block\",this.element.innerHTML+=t)}replaceData(t){t&&(this.stop_button.style.display=\"inline-block\",this.element.innerHTML=t)}eventOccurred(t){\"complete\"===t&&(this.stop_button.style.display=\"none\")}}window._CompilerDisplay=function(t,e){return new d(t,e)}})()})();; window._engineDisplay(\"a56db0a2-9165-4e74-848c-e29bd6e2686f\");</script>"
      ]
     },
     "metadata": {},
     "output_type": "display_data"
    },
    {
     "name": "stdout",
     "output_type": "stream",
     "text": [
      "memory=llm=<nextpy.ai.engine.llms._openai.OpenAI object at 0x7f309b2f32d0> memory_threshold=1 messages=[{'prompt': 'Suggest me books to read on this cat.', 'llm_response': '1. \"The Cat in the Hat\" by Dr. Seuss\\n2. \"Old Possum\\'s Book of Practical Cats\" by T.S. Eliot\\n3. \"Dewey: The Small-Town Library Cat Who Touched the World\" by Vicki Myron\\n4. \"A Street Cat Named Bob\" by James Bowen\\n5. \"Cat\\'s Eye\" by Margaret Atwood\\n6. \"The Guest Cat\" by Takashi Hiraide\\n7. \"The Cat Who Could Read Backwards\" by Lilian Jackson Braun\\n8. \"The Cat Who Went to Heaven\" by Elizabeth Coatsworth\\n9. \"The Cat Who Came for Christmas\" by Cleveland Amory\\n10. \"The Cat\\'s Table\" by Michael Ondaatje'}] current_summary='' messages_in_summary=[]\n"
     ]
    }
   ],
   "source": [
    "query2='Suggest me books to read on this cat.'\n",
    "out2 = experts(query=query2)\n",
    "print(f'memory={general_testing_memory}')"
   ]
  },
  {
   "cell_type": "markdown",
   "metadata": {},
   "source": [
    "### Read Only Memory\n",
    "*Note: run the above example 'General Memory Testing' for the below code to run."
   ]
  },
  {
   "cell_type": "code",
   "execution_count": 39,
   "metadata": {},
   "outputs": [
    {
     "data": {
      "text/html": [
       "<div id=\"engine-stop-button-b317b8a9-d737-49af-ae76-1899df9374df\" style=\"cursor: pointer; margin: 0px; display: none; float: right; padding: 3px; border-radius: 4px 4px 4px 4px; border: 0px solid rgba(127, 127, 127, 1); padding-left: 10px; padding-right: 10px; font-size: 13px; background-color: rgba(127, 127, 127, 0.25);\">Stop program</div><div id=\"engine-content-b317b8a9-d737-49af-ae76-1899df9374df\"><pre style='margin: 0px; padding: 0px; padding-left: 8px; margin-left: -8px; border-radius: 0px; border-left: 1px solid rgba(127, 127, 127, 0.2); white-space: pre-wrap; font-family: ColfaxAI, Arial; font-size: 15px; line-height: 23px;'><div style='display: flex; border-bottom: 1px solid rgba(127, 127, 127, 0.2); align-items: center;'><div style='flex: 0 0 80px; opacity: 0.5;'>system</div><div style='flex-grow: 1; padding: 5px; padding-top: 10px; padding-bottom: 10px; margin-top: 0px; white-space: pre-wrap; margin-bottom: 0px;'>You are a helpful and terse assistant.\n",
       "<span style='background-color: rgba(0, 138.56128016, 250.76166089, 0.25); display: inline;' title='{{ ConversationHistory }}'>se assistant.</span></div></div><div style='display: flex; border-bottom: 1px solid rgba(127, 127, 127, 0.2); align-items: center;'><div style='flex: 0 0 80px; opacity: 0.5;'>user</div><div style='flex-grow: 1; padding: 5px; padding-top: 10px; padding-bottom: 10px; margin-top: 0px; white-space: pre-wrap; margin-bottom: 0px;'><span style='background-color: rgba(0, 138.56128016, 250.76166089, 0.25); display: inline;' title='{{ query }}'>Give me a background on the authors of these books.</span></div></div><div style='display: flex; border-bottom: 1px solid rgba(127, 127, 127, 0.2); align-items: center;'><div style='flex: 0 0 80px; opacity: 0.5;'>assistant</div><div style='flex-grow: 1; padding: 5px; padding-top: 10px; padding-bottom: 10px; margin-top: 0px; white-space: pre-wrap; margin-bottom: 0px;'><span style='background-color: rgba(0, 165, 0, 0.25); opacity: 1.0; display: inline;' title='{{gen &#x27;result&#x27; temperature=0 max_tokens=300}}'>Sure, I can provide you with a brief background on the authors of the books you are interested in. Please provide me with the names of the authors and the titles of the books you would like information on.</span></div></div></pre></div>\n",
       "<script type=\"text/javascript\">(()=>{var t={296:(t,e,n)=>{var i=NaN,o=\"[object Symbol]\",r=/^\\s+|\\s+$/g,a=/^[-+]0x[0-9a-f]+$/i,s=/^0b[01]+$/i,c=/^0o[0-7]+$/i,d=parseInt,u=\"object\"==typeof n.g&&n.g&&n.g.Object===Object&&n.g,l=\"object\"==typeof self&&self&&self.Object===Object&&self,f=u||l||Function(\"return this\")(),h=Object.prototype.toString,p=Math.max,m=Math.min,g=function(){return f.Date.now()};function b(t){var e=typeof t;return!!t&&(\"object\"==e||\"function\"==e)}function y(t){if(\"number\"==typeof t)return t;if(function(t){return\"symbol\"==typeof t||function(t){return!!t&&\"object\"==typeof t}(t)&&h.call(t)==o}(t))return i;if(b(t)){var e=\"function\"==typeof t.valueOf?t.valueOf():t;t=b(e)?e+\"\":e}if(\"string\"!=typeof t)return 0===t?t:+t;t=t.replace(r,\"\");var n=s.test(t);return n||c.test(t)?d(t.slice(2),n?2:8):a.test(t)?i:+t}t.exports=function(t,e,n){var i,o,r,a,s,c,d=0,u=!1,l=!1,f=!0;if(\"function\"!=typeof t)throw new TypeError(\"Expected a function\");function h(e){var n=i,r=o;return i=o=void 0,d=e,a=t.apply(r,n)}function v(t){var n=t-c;return void 0===c||n>=e||n<0||l&&t-d>=r}function _(){var t=g();if(v(t))return w(t);s=setTimeout(_,function(t){var n=e-(t-c);return l?m(n,r-(t-d)):n}(t))}function w(t){return s=void 0,f&&i?h(t):(i=o=void 0,a)}function j(){var t=g(),n=v(t);if(i=arguments,o=this,c=t,n){if(void 0===s)return function(t){return d=t,s=setTimeout(_,e),u?h(t):a}(c);if(l)return s=setTimeout(_,e),h(c)}return void 0===s&&(s=setTimeout(_,e)),a}return e=y(e)||0,b(n)&&(u=!!n.leading,r=(l=\"maxWait\"in n)?p(y(n.maxWait)||0,e):r,f=\"trailing\"in n?!!n.trailing:f),j.cancel=function(){void 0!==s&&clearTimeout(s),d=0,i=c=o=s=void 0},j.flush=function(){return void 0===s?a:w(g())},j}},777:t=>{var e,n,i=Math.max,o=(e=function(t,e){return function(t,e,n){if(\"function\"!=typeof t)throw new TypeError(\"Expected a function\");return setTimeout((function(){t.apply(void 0,n)}),1)}(t,0,e)},n=i(void 0===n?e.length-1:n,0),function(){for(var t=arguments,o=-1,r=i(t.length-n,0),a=Array(r);++o<r;)a[o]=t[n+o];o=-1;for(var s=Array(n+1);++o<n;)s[o]=t[o];return s[n]=a,function(t,e,n){switch(n.length){case 0:return t.call(e);case 1:return t.call(e,n[0]);case 2:return t.call(e,n[0],n[1]);case 3:return t.call(e,n[0],n[1],n[2])}return t.apply(e,n)}(e,this,s)});t.exports=o}},e={};function n(i){var o=e[i];if(void 0!==o)return o.exports;var r=e[i]={exports:{}};return t[i](r,r.exports,n),r.exports}n.n=t=>{var e=t&&t.__esModule?()=>t.default:()=>t;return n.d(e,{a:e}),e},n.d=(t,e)=>{for(var i in e)n.o(e,i)&&!n.o(t,i)&&Object.defineProperty(t,i,{enumerable:!0,get:e[i]})},n.g=function(){if(\"object\"==typeof globalThis)return globalThis;try{return this||new Function(\"return this\")()}catch(t){if(\"object\"==typeof window)return window}}(),n.o=(t,e)=>Object.prototype.hasOwnProperty.call(t,e),(()=>{\"use strict\";const t=t=>{const e=new Set;do{for(const n of Reflect.ownKeys(t))e.add([t,n])}while((t=Reflect.getPrototypeOf(t))&&t!==Object.prototype);return e};function e(e,{include:n,exclude:i}={}){const o=t=>{const e=e=>\"string\"==typeof e?t===e:e.test(t);return n?n.some(e):!i||!i.some(e)};for(const[n,i]of t(e.constructor.prototype)){if(\"constructor\"===i||!o(i))continue;const t=Reflect.getOwnPropertyDescriptor(n,i);t&&\"function\"==typeof t.value&&(e[i]=e[i].bind(e))}return e}var i=n(777),o=n.n(i),r=n(296),a=n.n(r);class s{constructor(t,n){e(this),this.interfaceId=t,this.callbackMap={},this.data={},this.pendingData={},this.jcomm=new c(\"Compiler_interface_target_\"+this.interfaceId,this.updateData,\"open\"),this.debouncedSendPendingData500=a()(this.sendPendingData,500),this.debouncedSendPendingData1000=a()(this.sendPendingData,1e3),n&&o()(n)}send(t,e){this.addPendingData(t,e),this.sendPendingData()}sendEvent(t){for(const e of Object.keys(t))this.addPendingData(e,t[e]);this.sendPendingData()}debouncedSendEvent500(t){for(const e of Object.keys(t))this.addPendingData(e,t[e]);this.debouncedSendPendingData500()}debouncedSend500(t,e){this.addPendingData(t,e),this.debouncedSendPendingData500()}debouncedSend1000(t,e){this.addPendingData(t,e),this.debouncedSendPendingData1000()}addPendingData(t,e){Array.isArray(t)||(t=[t]);for(const n in t)this.pendingData[t[n]]=e}updateData(t){t=JSON.parse(t.data);for(const e in t)this.data[e]=t[e];for(const e in t)e in this.callbackMap&&this.callbackMap[e](this.data[e])}subscribe(t,e){this.callbackMap[t]=e,o()((e=>this.callbackMap[t](this.data[t])))}sendPendingData(){this.jcomm.send_data(this.pendingData),this.pendingData={}}}class c{constructor(t,e,n=\"open\"){this._fire_callback=this._fire_callback.bind(this),this._register=this._register.bind(this),this.jcomm=void 0,this.callback=e,void 0!==window.Jupyter?\"register\"===n?Jupyter.notebook.kernel.comm_manager.register_target(t,this._register):(this.jcomm=Jupyter.notebook.kernel.comm_manager.new_comm(t),this.jcomm.on_msg(this._fire_callback)):void 0!==window._mgr&&(\"register\"===n?window._mgr.widgetManager.proxyKernel.registerCommTarget(t,this._register):(this.jcomm=window._mgr.widgetManager.proxyKernel.createComm(t),this.jcomm.open({},\"\"),this.jcomm.onMsg=this._fire_callback))}send_data(t){void 0!==this.jcomm?this.jcomm.send(t):console.error(\"Jupyter comm module not yet loaded! So we can't send the message.\")}_register(t,e){this.jcomm=t,this.jcomm.on_msg(this._fire_callback)}_fire_callback(t){this.callback(t.content.data)}}class d{constructor(t,n){e(this),this.id=t,this.comm=new s(t),this.comm.subscribe(\"append\",this.appendData),this.comm.subscribe(\"replace\",this.replaceData),this.comm.subscribe(\"event\",this.eventOccurred),this.element=document.getElementById(\"Compiler-content-\"+t),this.stop_button=document.getElementById(\"Compiler-stop-button-\"+t),this.stop_button.onclick=()=>this.comm.send(\"event\",\"stop\")}appendData(t){t&&(this.stop_button.style.display=\"inline-block\",this.element.innerHTML+=t)}replaceData(t){t&&(this.stop_button.style.display=\"inline-block\",this.element.innerHTML=t)}eventOccurred(t){\"complete\"===t&&(this.stop_button.style.display=\"none\")}}window._CompilerDisplay=function(t,e){return new d(t,e)}})()})();; window._engineDisplay(\"b317b8a9-d737-49af-ae76-1899df9374df\");</script>"
      ]
     },
     "metadata": {},
     "output_type": "display_data"
    },
    {
     "name": "stdout",
     "output_type": "stream",
     "text": [
      "memory=llm=<nextpy.ai.engine.llms._openai.OpenAI object at 0x7f309ac54250> memory_threshold=1 messages=[] memory=SummaryMemory(llm=<nextpy.ai.engine.llms._openai.OpenAI object at 0x7f309b2f32d0>, memory_threshold=1, messages=[{'prompt': 'Suggest me books to read on this cat.', 'llm_response': '1. \"The Cat in the Hat\" by Dr. Seuss\\n2. \"Old Possum\\'s Book of Practical Cats\" by T.S. Eliot\\n3. \"Dewey: The Small-Town Library Cat Who Touched the World\" by Vicki Myron\\n4. \"A Street Cat Named Bob\" by James Bowen\\n5. \"Cat\\'s Eye\" by Margaret Atwood\\n6. \"The Guest Cat\" by Takashi Hiraide\\n7. \"The Cat Who Could Read Backwards\" by Lilian Jackson Braun\\n8. \"The Cat Who Went to Heaven\" by Elizabeth Coatsworth\\n9. \"The Cat Who Came for Christmas\" by Cleveland Amory\\n10. \"The Cat\\'s Table\" by Michael Ondaatje'}], current_summary='se assistant.', messages_in_summary=[{'prompt': 'Suggest me books to read on this cat.', 'llm_response': '1. \"The Cat in the Hat\" by Dr. Seuss\\n2. \"Old Possum\\'s Book of Practical Cats\" by T.S. Eliot\\n3. \"Dewey: The Small-Town Library Cat Who Touched the World\" by Vicki Myron\\n4. \"A Street Cat Named Bob\" by James Bowen\\n5. \"Cat\\'s Eye\" by Margaret Atwood\\n6. \"The Guest Cat\" by Takashi Hiraide\\n7. \"The Cat Who Could Read Backwards\" by Lilian Jackson Braun\\n8. \"The Cat Who Went to Heaven\" by Elizabeth Coatsworth\\n9. \"The Cat Who Came for Christmas\" by Cleveland Amory\\n10. \"The Cat\\'s Table\" by Michael Ondaatje'}])\n"
     ]
    }
   ],
   "source": [
    "read_only_memory = ReadOnlyMemory(memory=general_testing_memory)\n",
    "\n",
    "experts2 = compiler(template='''\n",
    "{{#system~}}\n",
    "You are a helpful and terse assistant.\n",
    "{{~/system}}\n",
    "\n",
    "{{#user~}}\n",
    "{{ query }}\n",
    "{{~/user}}\n",
    "\n",
    "{{#assistant~}}\n",
    "{{gen 'result' temperature=0 max_tokens=300}}\n",
    "{{~/assistant}}\n",
    "''', llm=llm, stream = False, memory=read_only_memory)\n",
    "\n",
    "query2='Give me a background on the authors of these books.'\n",
    "out2 = experts2(query=query2)\n",
    "print(f'memory={read_only_memory}')"
   ]
  },
  {
   "cell_type": "code",
   "execution_count": 33,
   "metadata": {},
   "outputs": [
    {
     "data": {
      "text/html": [
       "<div id=\"engine-stop-button-0c4f7e9d-477f-495d-a32d-58814982bffd\" style=\"cursor: pointer; margin: 0px; display: none; float: right; padding: 3px; border-radius: 4px 4px 4px 4px; border: 0px solid rgba(127, 127, 127, 1); padding-left: 10px; padding-right: 10px; font-size: 13px; background-color: rgba(127, 127, 127, 0.25);\">Stop program</div><div id=\"engine-content-0c4f7e9d-477f-495d-a32d-58814982bffd\"><pre style='margin: 0px; padding: 0px; padding-left: 8px; margin-left: -8px; border-radius: 0px; border-left: 1px solid rgba(127, 127, 127, 0.2); white-space: pre-wrap; font-family: ColfaxAI, Arial; font-size: 15px; line-height: 23px;'><div style='display: flex; border-bottom: 1px solid rgba(127, 127, 127, 0.2); align-items: center;'><div style='flex: 0 0 80px; opacity: 0.5;'>system</div><div style='flex-grow: 1; padding: 5px; padding-top: 10px; padding-bottom: 10px; margin-top: 0px; white-space: pre-wrap; margin-bottom: 0px;'>You are a helpful and terse assistant.\n",
       "<span style='background-color: rgba(0, 138.56128016, 250.76166089, 0.25); display: inline;' title='{{ ConversationHistory }}'>se assistant.</span></div></div><div style='display: flex; border-bottom: 1px solid rgba(127, 127, 127, 0.2); align-items: center;'><div style='flex: 0 0 80px; opacity: 0.5;'>user</div><div style='flex-grow: 1; padding: 5px; padding-top: 10px; padding-bottom: 10px; margin-top: 0px; white-space: pre-wrap; margin-bottom: 0px;'><span style='background-color: rgba(0, 138.56128016, 250.76166089, 0.25); display: inline;' title='{{ query }}'>Give the sources of the background check.</span></div></div><div style='display: flex; border-bottom: 1px solid rgba(127, 127, 127, 0.2); align-items: center;'><div style='flex: 0 0 80px; opacity: 0.5;'>assistant</div><div style='flex-grow: 1; padding: 5px; padding-top: 10px; padding-bottom: 10px; margin-top: 0px; white-space: pre-wrap; margin-bottom: 0px;'><span style='background-color: rgba(0, 165, 0, 0.25); opacity: 1.0; display: inline;' title='{{gen &#x27;result&#x27; temperature=0 max_tokens=300}}'>The sources of a background check can vary depending on the specific requirements and scope of the check. However, common sources include criminal records databases, court records, credit reports, employment history verification, education verification, reference checks, and professional license verification.</span></div></div></pre></div>\n",
       "<script type=\"text/javascript\">(()=>{var t={296:(t,e,n)=>{var i=NaN,o=\"[object Symbol]\",r=/^\\s+|\\s+$/g,a=/^[-+]0x[0-9a-f]+$/i,s=/^0b[01]+$/i,c=/^0o[0-7]+$/i,d=parseInt,u=\"object\"==typeof n.g&&n.g&&n.g.Object===Object&&n.g,l=\"object\"==typeof self&&self&&self.Object===Object&&self,f=u||l||Function(\"return this\")(),h=Object.prototype.toString,p=Math.max,m=Math.min,g=function(){return f.Date.now()};function b(t){var e=typeof t;return!!t&&(\"object\"==e||\"function\"==e)}function y(t){if(\"number\"==typeof t)return t;if(function(t){return\"symbol\"==typeof t||function(t){return!!t&&\"object\"==typeof t}(t)&&h.call(t)==o}(t))return i;if(b(t)){var e=\"function\"==typeof t.valueOf?t.valueOf():t;t=b(e)?e+\"\":e}if(\"string\"!=typeof t)return 0===t?t:+t;t=t.replace(r,\"\");var n=s.test(t);return n||c.test(t)?d(t.slice(2),n?2:8):a.test(t)?i:+t}t.exports=function(t,e,n){var i,o,r,a,s,c,d=0,u=!1,l=!1,f=!0;if(\"function\"!=typeof t)throw new TypeError(\"Expected a function\");function h(e){var n=i,r=o;return i=o=void 0,d=e,a=t.apply(r,n)}function v(t){var n=t-c;return void 0===c||n>=e||n<0||l&&t-d>=r}function _(){var t=g();if(v(t))return w(t);s=setTimeout(_,function(t){var n=e-(t-c);return l?m(n,r-(t-d)):n}(t))}function w(t){return s=void 0,f&&i?h(t):(i=o=void 0,a)}function j(){var t=g(),n=v(t);if(i=arguments,o=this,c=t,n){if(void 0===s)return function(t){return d=t,s=setTimeout(_,e),u?h(t):a}(c);if(l)return s=setTimeout(_,e),h(c)}return void 0===s&&(s=setTimeout(_,e)),a}return e=y(e)||0,b(n)&&(u=!!n.leading,r=(l=\"maxWait\"in n)?p(y(n.maxWait)||0,e):r,f=\"trailing\"in n?!!n.trailing:f),j.cancel=function(){void 0!==s&&clearTimeout(s),d=0,i=c=o=s=void 0},j.flush=function(){return void 0===s?a:w(g())},j}},777:t=>{var e,n,i=Math.max,o=(e=function(t,e){return function(t,e,n){if(\"function\"!=typeof t)throw new TypeError(\"Expected a function\");return setTimeout((function(){t.apply(void 0,n)}),1)}(t,0,e)},n=i(void 0===n?e.length-1:n,0),function(){for(var t=arguments,o=-1,r=i(t.length-n,0),a=Array(r);++o<r;)a[o]=t[n+o];o=-1;for(var s=Array(n+1);++o<n;)s[o]=t[o];return s[n]=a,function(t,e,n){switch(n.length){case 0:return t.call(e);case 1:return t.call(e,n[0]);case 2:return t.call(e,n[0],n[1]);case 3:return t.call(e,n[0],n[1],n[2])}return t.apply(e,n)}(e,this,s)});t.exports=o}},e={};function n(i){var o=e[i];if(void 0!==o)return o.exports;var r=e[i]={exports:{}};return t[i](r,r.exports,n),r.exports}n.n=t=>{var e=t&&t.__esModule?()=>t.default:()=>t;return n.d(e,{a:e}),e},n.d=(t,e)=>{for(var i in e)n.o(e,i)&&!n.o(t,i)&&Object.defineProperty(t,i,{enumerable:!0,get:e[i]})},n.g=function(){if(\"object\"==typeof globalThis)return globalThis;try{return this||new Function(\"return this\")()}catch(t){if(\"object\"==typeof window)return window}}(),n.o=(t,e)=>Object.prototype.hasOwnProperty.call(t,e),(()=>{\"use strict\";const t=t=>{const e=new Set;do{for(const n of Reflect.ownKeys(t))e.add([t,n])}while((t=Reflect.getPrototypeOf(t))&&t!==Object.prototype);return e};function e(e,{include:n,exclude:i}={}){const o=t=>{const e=e=>\"string\"==typeof e?t===e:e.test(t);return n?n.some(e):!i||!i.some(e)};for(const[n,i]of t(e.constructor.prototype)){if(\"constructor\"===i||!o(i))continue;const t=Reflect.getOwnPropertyDescriptor(n,i);t&&\"function\"==typeof t.value&&(e[i]=e[i].bind(e))}return e}var i=n(777),o=n.n(i),r=n(296),a=n.n(r);class s{constructor(t,n){e(this),this.interfaceId=t,this.callbackMap={},this.data={},this.pendingData={},this.jcomm=new c(\"Compiler_interface_target_\"+this.interfaceId,this.updateData,\"open\"),this.debouncedSendPendingData500=a()(this.sendPendingData,500),this.debouncedSendPendingData1000=a()(this.sendPendingData,1e3),n&&o()(n)}send(t,e){this.addPendingData(t,e),this.sendPendingData()}sendEvent(t){for(const e of Object.keys(t))this.addPendingData(e,t[e]);this.sendPendingData()}debouncedSendEvent500(t){for(const e of Object.keys(t))this.addPendingData(e,t[e]);this.debouncedSendPendingData500()}debouncedSend500(t,e){this.addPendingData(t,e),this.debouncedSendPendingData500()}debouncedSend1000(t,e){this.addPendingData(t,e),this.debouncedSendPendingData1000()}addPendingData(t,e){Array.isArray(t)||(t=[t]);for(const n in t)this.pendingData[t[n]]=e}updateData(t){t=JSON.parse(t.data);for(const e in t)this.data[e]=t[e];for(const e in t)e in this.callbackMap&&this.callbackMap[e](this.data[e])}subscribe(t,e){this.callbackMap[t]=e,o()((e=>this.callbackMap[t](this.data[t])))}sendPendingData(){this.jcomm.send_data(this.pendingData),this.pendingData={}}}class c{constructor(t,e,n=\"open\"){this._fire_callback=this._fire_callback.bind(this),this._register=this._register.bind(this),this.jcomm=void 0,this.callback=e,void 0!==window.Jupyter?\"register\"===n?Jupyter.notebook.kernel.comm_manager.register_target(t,this._register):(this.jcomm=Jupyter.notebook.kernel.comm_manager.new_comm(t),this.jcomm.on_msg(this._fire_callback)):void 0!==window._mgr&&(\"register\"===n?window._mgr.widgetManager.proxyKernel.registerCommTarget(t,this._register):(this.jcomm=window._mgr.widgetManager.proxyKernel.createComm(t),this.jcomm.open({},\"\"),this.jcomm.onMsg=this._fire_callback))}send_data(t){void 0!==this.jcomm?this.jcomm.send(t):console.error(\"Jupyter comm module not yet loaded! So we can't send the message.\")}_register(t,e){this.jcomm=t,this.jcomm.on_msg(this._fire_callback)}_fire_callback(t){this.callback(t.content.data)}}class d{constructor(t,n){e(this),this.id=t,this.comm=new s(t),this.comm.subscribe(\"append\",this.appendData),this.comm.subscribe(\"replace\",this.replaceData),this.comm.subscribe(\"event\",this.eventOccurred),this.element=document.getElementById(\"Compiler-content-\"+t),this.stop_button=document.getElementById(\"Compiler-stop-button-\"+t),this.stop_button.onclick=()=>this.comm.send(\"event\",\"stop\")}appendData(t){t&&(this.stop_button.style.display=\"inline-block\",this.element.innerHTML+=t)}replaceData(t){t&&(this.stop_button.style.display=\"inline-block\",this.element.innerHTML=t)}eventOccurred(t){\"complete\"===t&&(this.stop_button.style.display=\"none\")}}window._CompilerDisplay=function(t,e){return new d(t,e)}})()})();; window._engineDisplay(\"0c4f7e9d-477f-495d-a32d-58814982bffd\");</script>"
      ]
     },
     "metadata": {},
     "output_type": "display_data"
    }
   ],
   "source": [
    "query3='Give the sources of the background check.'\n",
    "out3= experts2(query=query3)"
   ]
  },
  {
   "cell_type": "markdown",
   "metadata": {},
   "source": [
    "### Remove conversation from memory\n",
    "*Note: run the above example 'General Memory Testing' for the below code to run."
   ]
  },
  {
   "cell_type": "code",
   "execution_count": 34,
   "metadata": {},
   "outputs": [
    {
     "data": {
      "text/plain": [
       "[{'prompt': 'How can I be more productive?',\n",
       "  'llm_response': 'Set clear goals, prioritize tasks, eliminate distractions, manage your time effectively, take regular breaks, delegate tasks when possible, and stay organized.'},\n",
       " {'prompt': 'Can you give me more suggestions on this topic?',\n",
       "  'llm_response': 'Sure, what topic are you referring to?'},\n",
       " {'prompt': 'Make an action plan for me to achieve this.',\n",
       "  'llm_response': '1. Define your goal: Clearly identify what you want to achieve. Be specific and measurable.\\n\\n2. Break it down: Divide your goal into smaller, manageable tasks or milestones. This will make it easier to track progress and stay motivated.\\n\\n3. Set deadlines: Assign realistic deadlines to each task or milestone. This will help you stay focused and ensure that you make steady progress towards your goal.\\n\\n4. Prioritize: Determine which tasks or milestones are most important and should be completed first. This will help you stay organized and avoid feeling overwhelmed.\\n\\n5. Create a schedule: Allocate specific time slots in your calendar to work on each task or milestone. Treat these time slots as non-negotiable commitments to yourself.\\n\\n6. Take action: Start working on your action plan immediately. Don\\'t wait for the \"perfect\" moment or for everything to be in place. Just get started and adjust as you go along.\\n\\n7. Monitor progress: Regularly review your progress against the deadlines you set. Celebrate your achievements and make any necessary adjustments to your plan if you\\'re falling behind.\\n\\n8. Stay motivated: Find ways to stay motivated throughout the process. This could include rewarding yourself for completing tasks, seeking support from friends or family, or visualizing the end result.\\n\\n9. Stay flexible: Be open to adjusting your plan if needed. Sometimes unexpected obstacles or opportunities may arise, and it\\'s important to adapt and make necessary changes.\\n\\n10. Stay committed: Remember why you set this goal in the'},\n",
       " {'prompt': 'Suggest me books to read on this topic.',\n",
       "  'llm_response': 'Sure! What topic are you interested in?'}]"
      ]
     },
     "execution_count": 34,
     "metadata": {},
     "output_type": "execute_result"
    }
   ],
   "source": [
    "general_testing_memory.remove_memory(query2)\n",
    "general_testing_memory.messages"
   ]
  },
  {
   "cell_type": "markdown",
   "metadata": {},
   "source": [
    "### Clear memory\n",
    "*Note: run the above example 'General Memory Testing' for the below code to run."
   ]
  },
  {
   "cell_type": "code",
   "execution_count": 35,
   "metadata": {},
   "outputs": [
    {
     "data": {
      "text/plain": [
       "[]"
      ]
     },
     "execution_count": 35,
     "metadata": {},
     "output_type": "execute_result"
    }
   ],
   "source": [
    "general_testing_memory.clear()\n",
    "general_testing_memory.messages"
   ]
  },
  {
   "cell_type": "markdown",
   "metadata": {},
   "source": [
    "### Memory with Agent"
   ]
  },
  {
   "cell_type": "code",
   "execution_count": 36,
   "metadata": {},
   "outputs": [
    {
     "name": "stderr",
     "output_type": "stream",
     "text": [
      "WARNING:root:Output key not found in output, so full output returned\n",
      "WARNING:root:Output key not found in output, so full output returned\n",
      "WARNING:root:Output key not found in output, so full output returned\n"
     ]
    },
    {
     "name": "stdout",
     "output_type": "stream",
     "text": [
      "Traceback (most recent call last):\n",
      "  File \"/home/nexpy-dev/nextpy/nextpy/ai/engine/_program_executor.py\", line 111, in run\n",
      "    await self.visit(\n",
      "  File \"/home/nexpy-dev/nextpy/nextpy/ai/engine/_program_executor.py\", line 664, in visit\n",
      "    await self.visit(\n",
      "  File \"/home/nexpy-dev/nextpy/nextpy/ai/engine/_program_executor.py\", line 618, in visit\n",
      "    command_output = await command_function(\n",
      "                     ^^^^^^^^^^^^^^^^^^^^^^^\n",
      "  File \"/home/nexpy-dev/nextpy/nextpy/ai/engine/library/_assistant.py\", line 17, in assistant\n",
      "    return await role(\n",
      "           ^^^^^^^^^^^\n",
      "  File \"/home/nexpy-dev/nextpy/nextpy/ai/engine/library/_role.py\", line 20, in role\n",
      "    new_content += await parser.visit(\n",
      "                   ^^^^^^^^^^^^^^^^^^^\n",
      "  File \"/home/nexpy-dev/nextpy/nextpy/ai/engine/_program_executor.py\", line 664, in visit\n",
      "    await self.visit(\n",
      "  File \"/home/nexpy-dev/nextpy/nextpy/ai/engine/_program_executor.py\", line 664, in visit\n",
      "    await self.visit(\n",
      "  File \"/home/nexpy-dev/nextpy/nextpy/ai/engine/_program_executor.py\", line 292, in visit\n",
      "    visited_children = [\n",
      "                       ^\n",
      "  File \"/home/nexpy-dev/nextpy/nextpy/ai/engine/_program_executor.py\", line 293, in <listcomp>\n",
      "    await self.visit(\n",
      "  File \"/home/nexpy-dev/nextpy/nextpy/ai/engine/_program_executor.py\", line 444, in visit\n",
      "    command_output = await command_function(\n",
      "                     ^^^^^^^^^^^^^^^^^^^^^^^\n",
      "  File \"/home/nexpy-dev/nextpy/nextpy/ai/engine/library/_gen.py\", line 143, in gen\n",
      "    gen_obj = await parser.llm_session(\n",
      "              ^^^^^^^^^^^^^^^^^^^^^^^^^\n",
      "  File \"/home/nexpy-dev/nextpy/nextpy/ai/engine/llms/_openai.py\", line 686, in __call__\n",
      "    out = await self.llm.caller(**call_args)\n",
      "          ^^^^^^^^^^^^^^^^^^^^^^^^^^^^^^^^^^\n",
      "  File \"/home/nexpy-dev/nextpy/nextpy/ai/engine/llms/_openai.py\", line 383, in _library_call\n",
      "    assert openai.api_key is not None, \"You must provide an OpenAI API key to use the OpenAI LLM. Either pass it in the constructor, set the OPENAI_API_KEY environment variable, or create the file ~/.openai_api_key with your key in it.\"\n",
      "           ^^^^^^^^^^^^^^^^^^^^^^^^^^\n",
      "AssertionError: You must provide an OpenAI API key to use the OpenAI LLM. Either pass it in the constructor, set the OPENAI_API_KEY environment variable, or create the file ~/.openai_api_key with your key in it.\n",
      "\n",
      "Error in program:  You must provide an OpenAI API key to use the OpenAI LLM. Either pass it in the constructor, set the OPENAI_API_KEY environment variable, or create the file ~/.openai_api_key with your key in it.\n",
      "Traceback (most recent call last):\n",
      "  File \"/home/nexpy-dev/nextpy/nextpy/ai/engine/_program_executor.py\", line 111, in run\n",
      "    await self.visit(\n",
      "  File \"/home/nexpy-dev/nextpy/nextpy/ai/engine/_program_executor.py\", line 664, in visit\n",
      "    await self.visit(\n",
      "  File \"/home/nexpy-dev/nextpy/nextpy/ai/engine/_program_executor.py\", line 618, in visit\n",
      "    command_output = await command_function(\n",
      "                     ^^^^^^^^^^^^^^^^^^^^^^^\n",
      "  File \"/home/nexpy-dev/nextpy/nextpy/ai/engine/library/_assistant.py\", line 17, in assistant\n",
      "    return await role(\n",
      "           ^^^^^^^^^^^\n",
      "  File \"/home/nexpy-dev/nextpy/nextpy/ai/engine/library/_role.py\", line 20, in role\n",
      "    new_content += await parser.visit(\n",
      "                   ^^^^^^^^^^^^^^^^^^^\n",
      "  File \"/home/nexpy-dev/nextpy/nextpy/ai/engine/_program_executor.py\", line 664, in visit\n",
      "    await self.visit(\n",
      "  File \"/home/nexpy-dev/nextpy/nextpy/ai/engine/_program_executor.py\", line 664, in visit\n",
      "    await self.visit(\n",
      "  File \"/home/nexpy-dev/nextpy/nextpy/ai/engine/_program_executor.py\", line 292, in visit\n",
      "    visited_children = [\n",
      "                       ^\n",
      "  File \"/home/nexpy-dev/nextpy/nextpy/ai/engine/_program_executor.py\", line 293, in <listcomp>\n",
      "    await self.visit(\n",
      "  File \"/home/nexpy-dev/nextpy/nextpy/ai/engine/_program_executor.py\", line 444, in visit\n",
      "    command_output = await command_function(\n",
      "                     ^^^^^^^^^^^^^^^^^^^^^^^\n",
      "  File \"/home/nexpy-dev/nextpy/nextpy/ai/engine/library/_gen.py\", line 143, in gen\n",
      "    gen_obj = await parser.llm_session(\n",
      "              ^^^^^^^^^^^^^^^^^^^^^^^^^\n",
      "  File \"/home/nexpy-dev/nextpy/nextpy/ai/engine/llms/_openai.py\", line 686, in __call__\n",
      "    out = await self.llm.caller(**call_args)\n",
      "          ^^^^^^^^^^^^^^^^^^^^^^^^^^^^^^^^^^\n",
      "  File \"/home/nexpy-dev/nextpy/nextpy/ai/engine/llms/_openai.py\", line 383, in _library_call\n",
      "    assert openai.api_key is not None, \"You must provide an OpenAI API key to use the OpenAI LLM. Either pass it in the constructor, set the OPENAI_API_KEY environment variable, or create the file ~/.openai_api_key with your key in it.\"\n",
      "           ^^^^^^^^^^^^^^^^^^^^^^^^^^\n",
      "AssertionError: You must provide an OpenAI API key to use the OpenAI LLM. Either pass it in the constructor, set the OPENAI_API_KEY environment variable, or create the file ~/.openai_api_key with your key in it.\n",
      "\n",
      "Error in program:  You must provide an OpenAI API key to use the OpenAI LLM. Either pass it in the constructor, set the OPENAI_API_KEY environment variable, or create the file ~/.openai_api_key with your key in it.\n",
      "Traceback (most recent call last):\n",
      "  File \"/home/nexpy-dev/nextpy/nextpy/ai/engine/_program_executor.py\", line 111, in run\n",
      "    await self.visit(\n",
      "  File \"/home/nexpy-dev/nextpy/nextpy/ai/engine/_program_executor.py\", line 664, in visit\n",
      "    await self.visit(\n",
      "  File \"/home/nexpy-dev/nextpy/nextpy/ai/engine/_program_executor.py\", line 618, in visit\n",
      "    command_output = await command_function(\n",
      "                     ^^^^^^^^^^^^^^^^^^^^^^^\n",
      "  File \"/home/nexpy-dev/nextpy/nextpy/ai/engine/library/_assistant.py\", line 17, in assistant\n",
      "    return await role(\n",
      "           ^^^^^^^^^^^\n",
      "  File \"/home/nexpy-dev/nextpy/nextpy/ai/engine/library/_role.py\", line 20, in role\n",
      "    new_content += await parser.visit(\n",
      "                   ^^^^^^^^^^^^^^^^^^^\n",
      "  File \"/home/nexpy-dev/nextpy/nextpy/ai/engine/_program_executor.py\", line 664, in visit\n",
      "    await self.visit(\n",
      "  File \"/home/nexpy-dev/nextpy/nextpy/ai/engine/_program_executor.py\", line 664, in visit\n",
      "    await self.visit(\n",
      "  File \"/home/nexpy-dev/nextpy/nextpy/ai/engine/_program_executor.py\", line 292, in visit\n",
      "    visited_children = [\n",
      "                       ^\n",
      "  File \"/home/nexpy-dev/nextpy/nextpy/ai/engine/_program_executor.py\", line 293, in <listcomp>\n",
      "    await self.visit(\n",
      "  File \"/home/nexpy-dev/nextpy/nextpy/ai/engine/_program_executor.py\", line 444, in visit\n",
      "    command_output = await command_function(\n",
      "                     ^^^^^^^^^^^^^^^^^^^^^^^\n",
      "  File \"/home/nexpy-dev/nextpy/nextpy/ai/engine/library/_gen.py\", line 143, in gen\n",
      "    gen_obj = await parser.llm_session(\n",
      "              ^^^^^^^^^^^^^^^^^^^^^^^^^\n",
      "  File \"/home/nexpy-dev/nextpy/nextpy/ai/engine/llms/_openai.py\", line 686, in __call__\n",
      "    out = await self.llm.caller(**call_args)\n",
      "          ^^^^^^^^^^^^^^^^^^^^^^^^^^^^^^^^^^\n",
      "  File \"/home/nexpy-dev/nextpy/nextpy/ai/engine/llms/_openai.py\", line 383, in _library_call\n",
      "    assert openai.api_key is not None, \"You must provide an OpenAI API key to use the OpenAI LLM. Either pass it in the constructor, set the OPENAI_API_KEY environment variable, or create the file ~/.openai_api_key with your key in it.\"\n",
      "           ^^^^^^^^^^^^^^^^^^^^^^^^^^\n",
      "AssertionError: You must provide an OpenAI API key to use the OpenAI LLM. Either pass it in the constructor, set the OPENAI_API_KEY environment variable, or create the file ~/.openai_api_key with your key in it.\n",
      "\n",
      "Error in program:  You must provide an OpenAI API key to use the OpenAI LLM. Either pass it in the constructor, set the OPENAI_API_KEY environment variable, or create the file ~/.openai_api_key with your key in it.\n",
      "\n",
      "            {{#system~}}\n",
      "            you are a helpful assistant.\n",
      "            {{ ConversationHistory }}{{~/system}}\n",
      "\n",
      "            {{#user~}}\n",
      "            You will use this FORMAT only to answer user's QUERY\n",
      "            FORMAT: {{format}}\n",
      "            QUERY: {{input}}\n",
      "\n",
      "           \n",
      "            {{~/user}}\n",
      "\n",
      "            {{#assistant~}}\n",
      "            Yes, I will tell you about with that\n",
      "            {{~/assistant}}\n",
      "\n",
      "            {{#user~}}\n",
      "            Yes, tell me\n",
      "            {{~/user}}\n",
      "\n",
      "            {{#assistant~}}\n",
      "            {{gen 'response' temperature=0 max_tokens=300}}\n",
      "            {{~/assistant}}\n",
      "\n",
      "            {{#system~}}\n",
      "            you are a helpful assistant.\n",
      "            {{ ConversationHistory }}{{~/system}}\n",
      "\n",
      "            {{#user~}}\n",
      "            You will use this FORMAT only to answer user's QUERY\n",
      "            FORMAT: {{format}}\n",
      "            QUERY: {{input}}\n",
      "\n",
      "           \n",
      "            {{~/user}}\n",
      "\n",
      "            {{#assistant~}}\n",
      "            Yes, I will tell you about with that\n",
      "            {{~/assistant}}\n",
      "\n",
      "            {{#user~}}\n",
      "            Yes, tell me\n",
      "            {{~/user}}\n",
      "\n",
      "            {{#assistant~}}\n",
      "            {{gen 'response' temperature=0 max_tokens=300}}\n",
      "            {{~/assistant}}\n",
      "\n",
      "            {{#system~}}\n",
      "            you are a helpful assistant.\n",
      "            {{ ConversationHistory }}{{~/system}}\n",
      "\n",
      "            {{#user~}}\n",
      "            You will use this FORMAT only to answer user's QUERY\n",
      "            FORMAT: {{format}}\n",
      "            QUERY: {{input}}\n",
      "\n",
      "           \n",
      "            {{~/user}}\n",
      "\n",
      "            {{#assistant~}}\n",
      "            Yes, I will tell you about with that\n",
      "            {{~/assistant}}\n",
      "\n",
      "            {{#user~}}\n",
      "            Yes, tell me\n",
      "            {{~/user}}\n",
      "\n",
      "            {{#assistant~}}\n",
      "            {{gen 'response' temperature=0 max_tokens=300}}\n",
      "            {{~/assistant}}\n"
     ]
    }
   ],
   "source": [
    "from nextpy.ai.engine.llms._openai import OpenAI\n",
    "from nextpy.ai.agent.chat import ChatAgent\n",
    "from nextpy.ai.memory import SimpleMemory\n",
    "\n",
    "import re\n",
    "\n",
    "\n",
    "# Initialize your agent\n",
    "llm = OpenAI(model='gpt-3.5-turbo')\n",
    "agent_memory = SimpleMemory()\n",
    "\n",
    "chat_template = '''\n",
    "            {{#system~}}\n",
    "            you are a helpful assistant.\n",
    "            {{~/system}}\n",
    "\n",
    "            {{#user~}}\n",
    "            You will use this FORMAT only to answer user's QUERY\n",
    "            FORMAT: {{format}}\n",
    "            QUERY: {{input}}\n",
    "\n",
    "           \n",
    "            {{~/user}}\n",
    "\n",
    "            {{#assistant~}}\n",
    "            Yes, I will tell you about with that\n",
    "            {{~/assistant}}\n",
    "\n",
    "            {{#user~}}\n",
    "            Yes, tell me\n",
    "            {{~/user}}\n",
    "\n",
    "            {{#assistant~}}\n",
    "            {{gen 'response' temperature=0 max_tokens=300}}\n",
    "            {{~/assistant}}'''\n",
    "\n",
    "agent = ChatAgent(\n",
    "    llm=llm,\n",
    "    prompt_template=chat_template,\n",
    "    input_variables={ \"extras\": 'format'},\n",
    "    output_key='response',\n",
    "    memory = agent_memory\n",
    "    )\n",
    "\n",
    "# agent = load_agent_config('config.agent')\n",
    "out= agent.run(input = \"What was the famous dialogue of lord of the rings?\", format = \"JSON\")\n",
    "out2= agent.run(input = \"Who said that?\", format = \"JSON\")\n",
    "out3= agent.run(input = \"To whom did he say that?\", format = \"JSON\")\n",
    "\n",
    "print(out)\n",
    "print(out2)\n",
    "print(out3)"
   ]
  },
  {
   "cell_type": "code",
   "execution_count": null,
   "metadata": {},
   "outputs": [],
   "source": []
  }
 ],
 "metadata": {
  "kernelspec": {
   "display_name": "openagent",
   "language": "python",
   "name": "python3"
  },
  "language_info": {
   "codemirror_mode": {
    "name": "ipython",
    "version": 3
   },
   "file_extension": ".py",
   "mimetype": "text/x-python",
   "name": "python",
   "nbconvert_exporter": "python",
   "pygments_lexer": "ipython3",
   "version": "3.11.2"
  },
  "orig_nbformat": 4
 },
 "nbformat": 4,
 "nbformat_minor": 2
}
