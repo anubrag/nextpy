{
 "cells": [
  {
   "cell_type": "markdown",
   "metadata": {},
   "source": [
    "### General Memory Testing \n",
    "In the below block with the instance of memory, create an object of the memory you wish to test."
   ]
  },
  {
   "cell_type": "code",
   "execution_count": 1,
   "metadata": {},
   "outputs": [
    {
     "name": "stdout",
     "output_type": "stream",
     "text": [
      "Brace for puns while we compile.:\n",
      "Schrodinger's attitude to web development: If I don't look at it in Internet Explorer then there's a chance it looks fine. 😂\n",
      "\n"
     ]
    }
   ],
   "source": [
    "from nextpy.ai import engine\n",
    "\n",
    "from nextpy.ai.memory import SummaryMemory, ReadOnlyMemory, SimpleMemory, \n",
    "\n",
    "general_testing_memory = SimpleMemory() \n",
    "\n",
    "api_key = 'api_key'\n",
    "\n",
    "llm =  engine.llms.OpenAI(\"gpt-3.5-turbo\", chat_mode=True, api_key=api_key, caching=False)"
   ]
  },
  {
   "cell_type": "code",
   "execution_count": 2,
   "metadata": {},
   "outputs": [
    {
     "name": "stdout",
     "output_type": "stream",
     "text": [
      "memory=llm=<nextpy.ai.engine.llms._openai.OpenAI object at 0x7f4cbd278fd0> memory_threshold=8000 messages=[]\n"
     ]
    }
   ],
   "source": [
    "\n",
    "\n",
    "experts = engine(template='''\n",
    "{{#system~}}\n",
    "You are a helpful and terse assistant.\n",
    "{{ ConversationHistory }}\n",
    "{{~/system}}\n",
    "\n",
    "{{#user~}}\n",
    "{{ query }}\n",
    "{{~/user}}\n",
    "\n",
    "{{#assistant~}}\n",
    "{{gen 'result' temperature=0 max_tokens=300}}\n",
    "{{~/assistant}}\n",
    "''', llm=llm, stream = False, memory=general_testing_memory, memory_threshold = 8000)\n",
    "\n",
    "print(f'memory={general_testing_memory}')"
   ]
  },
  {
   "cell_type": "code",
   "execution_count": 3,
   "metadata": {},
   "outputs": [
    {
     "data": {
      "text/html": [
       "<div id=\"engine-stop-button-0fab7cc7-10e5-417e-85cf-7b65461081ce\" style=\"cursor: pointer; margin: 0px; display: none; float: right; padding: 3px; border-radius: 4px 4px 4px 4px; border: 0px solid rgba(127, 127, 127, 1); padding-left: 10px; padding-right: 10px; font-size: 13px; background-color: rgba(127, 127, 127, 0.25);\">Stop program</div><div id=\"engine-content-0fab7cc7-10e5-417e-85cf-7b65461081ce\"><pre style='margin: 0px; padding: 0px; padding-left: 8px; margin-left: -8px; border-radius: 0px; border-left: 1px solid rgba(127, 127, 127, 0.2); white-space: pre-wrap; font-family: ColfaxAI, Arial; font-size: 15px; line-height: 23px;'><div style='display: flex; border-bottom: 1px solid rgba(127, 127, 127, 0.2); align-items: center;'><div style='flex: 0 0 80px; opacity: 0.5;'>system</div><div style='flex-grow: 1; padding: 5px; padding-top: 10px; padding-bottom: 10px; margin-top: 0px; white-space: pre-wrap; margin-bottom: 0px;'>You are a helpful and terse assistant.\n",
       "<span style='background-color: rgba(0, 138.56128016, 250.76166089, 0.25); display: inline;' title='{{ ConversationHistory }}'></span></div></div><div style='display: flex; border-bottom: 1px solid rgba(127, 127, 127, 0.2); align-items: center;'><div style='flex: 0 0 80px; opacity: 0.5;'>user</div><div style='flex-grow: 1; padding: 5px; padding-top: 10px; padding-bottom: 10px; margin-top: 0px; white-space: pre-wrap; margin-bottom: 0px;'><span style='background-color: rgba(0, 138.56128016, 250.76166089, 0.25); display: inline;' title='{{ query }}'>How can I be more productive?</span></div></div><div style='display: flex; border-bottom: 1px solid rgba(127, 127, 127, 0.2); align-items: center;'><div style='flex: 0 0 80px; opacity: 0.5;'>assistant</div><div style='flex-grow: 1; padding: 5px; padding-top: 10px; padding-bottom: 10px; margin-top: 0px; white-space: pre-wrap; margin-bottom: 0px;'><span style='background-color: rgba(0, 165, 0, 0.25); opacity: 1.0; display: inline;' title='{{gen &#x27;result&#x27; temperature=0 max_tokens=300}}'>Set clear goals, prioritize tasks, eliminate distractions, manage your time effectively, take regular breaks, delegate tasks when possible, and stay organized.</span></div></div></pre></div>\n",
       "<script type=\"text/javascript\">(()=>{var t={296:(t,e,n)=>{var i=NaN,o=\"[object Symbol]\",r=/^\\s+|\\s+$/g,a=/^[-+]0x[0-9a-f]+$/i,s=/^0b[01]+$/i,c=/^0o[0-7]+$/i,d=parseInt,u=\"object\"==typeof n.g&&n.g&&n.g.Object===Object&&n.g,l=\"object\"==typeof self&&self&&self.Object===Object&&self,f=u||l||Function(\"return this\")(),h=Object.prototype.toString,p=Math.max,m=Math.min,g=function(){return f.Date.now()};function b(t){var e=typeof t;return!!t&&(\"object\"==e||\"function\"==e)}function y(t){if(\"number\"==typeof t)return t;if(function(t){return\"symbol\"==typeof t||function(t){return!!t&&\"object\"==typeof t}(t)&&h.call(t)==o}(t))return i;if(b(t)){var e=\"function\"==typeof t.valueOf?t.valueOf():t;t=b(e)?e+\"\":e}if(\"string\"!=typeof t)return 0===t?t:+t;t=t.replace(r,\"\");var n=s.test(t);return n||c.test(t)?d(t.slice(2),n?2:8):a.test(t)?i:+t}t.exports=function(t,e,n){var i,o,r,a,s,c,d=0,u=!1,l=!1,f=!0;if(\"function\"!=typeof t)throw new TypeError(\"Expected a function\");function h(e){var n=i,r=o;return i=o=void 0,d=e,a=t.apply(r,n)}function v(t){var n=t-c;return void 0===c||n>=e||n<0||l&&t-d>=r}function _(){var t=g();if(v(t))return w(t);s=setTimeout(_,function(t){var n=e-(t-c);return l?m(n,r-(t-d)):n}(t))}function w(t){return s=void 0,f&&i?h(t):(i=o=void 0,a)}function j(){var t=g(),n=v(t);if(i=arguments,o=this,c=t,n){if(void 0===s)return function(t){return d=t,s=setTimeout(_,e),u?h(t):a}(c);if(l)return s=setTimeout(_,e),h(c)}return void 0===s&&(s=setTimeout(_,e)),a}return e=y(e)||0,b(n)&&(u=!!n.leading,r=(l=\"maxWait\"in n)?p(y(n.maxWait)||0,e):r,f=\"trailing\"in n?!!n.trailing:f),j.cancel=function(){void 0!==s&&clearTimeout(s),d=0,i=c=o=s=void 0},j.flush=function(){return void 0===s?a:w(g())},j}},777:t=>{var e,n,i=Math.max,o=(e=function(t,e){return function(t,e,n){if(\"function\"!=typeof t)throw new TypeError(\"Expected a function\");return setTimeout((function(){t.apply(void 0,n)}),1)}(t,0,e)},n=i(void 0===n?e.length-1:n,0),function(){for(var t=arguments,o=-1,r=i(t.length-n,0),a=Array(r);++o<r;)a[o]=t[n+o];o=-1;for(var s=Array(n+1);++o<n;)s[o]=t[o];return s[n]=a,function(t,e,n){switch(n.length){case 0:return t.call(e);case 1:return t.call(e,n[0]);case 2:return t.call(e,n[0],n[1]);case 3:return t.call(e,n[0],n[1],n[2])}return t.apply(e,n)}(e,this,s)});t.exports=o}},e={};function n(i){var o=e[i];if(void 0!==o)return o.exports;var r=e[i]={exports:{}};return t[i](r,r.exports,n),r.exports}n.n=t=>{var e=t&&t.__esModule?()=>t.default:()=>t;return n.d(e,{a:e}),e},n.d=(t,e)=>{for(var i in e)n.o(e,i)&&!n.o(t,i)&&Object.defineProperty(t,i,{enumerable:!0,get:e[i]})},n.g=function(){if(\"object\"==typeof globalThis)return globalThis;try{return this||new Function(\"return this\")()}catch(t){if(\"object\"==typeof window)return window}}(),n.o=(t,e)=>Object.prototype.hasOwnProperty.call(t,e),(()=>{\"use strict\";const t=t=>{const e=new Set;do{for(const n of Reflect.ownKeys(t))e.add([t,n])}while((t=Reflect.getPrototypeOf(t))&&t!==Object.prototype);return e};function e(e,{include:n,exclude:i}={}){const o=t=>{const e=e=>\"string\"==typeof e?t===e:e.test(t);return n?n.some(e):!i||!i.some(e)};for(const[n,i]of t(e.constructor.prototype)){if(\"constructor\"===i||!o(i))continue;const t=Reflect.getOwnPropertyDescriptor(n,i);t&&\"function\"==typeof t.value&&(e[i]=e[i].bind(e))}return e}var i=n(777),o=n.n(i),r=n(296),a=n.n(r);class s{constructor(t,n){e(this),this.interfaceId=t,this.callbackMap={},this.data={},this.pendingData={},this.jcomm=new c(\"Compiler_interface_target_\"+this.interfaceId,this.updateData,\"open\"),this.debouncedSendPendingData500=a()(this.sendPendingData,500),this.debouncedSendPendingData1000=a()(this.sendPendingData,1e3),n&&o()(n)}send(t,e){this.addPendingData(t,e),this.sendPendingData()}sendEvent(t){for(const e of Object.keys(t))this.addPendingData(e,t[e]);this.sendPendingData()}debouncedSendEvent500(t){for(const e of Object.keys(t))this.addPendingData(e,t[e]);this.debouncedSendPendingData500()}debouncedSend500(t,e){this.addPendingData(t,e),this.debouncedSendPendingData500()}debouncedSend1000(t,e){this.addPendingData(t,e),this.debouncedSendPendingData1000()}addPendingData(t,e){Array.isArray(t)||(t=[t]);for(const n in t)this.pendingData[t[n]]=e}updateData(t){t=JSON.parse(t.data);for(const e in t)this.data[e]=t[e];for(const e in t)e in this.callbackMap&&this.callbackMap[e](this.data[e])}subscribe(t,e){this.callbackMap[t]=e,o()((e=>this.callbackMap[t](this.data[t])))}sendPendingData(){this.jcomm.send_data(this.pendingData),this.pendingData={}}}class c{constructor(t,e,n=\"open\"){this._fire_callback=this._fire_callback.bind(this),this._register=this._register.bind(this),this.jcomm=void 0,this.callback=e,void 0!==window.Jupyter?\"register\"===n?Jupyter.notebook.kernel.comm_manager.register_target(t,this._register):(this.jcomm=Jupyter.notebook.kernel.comm_manager.new_comm(t),this.jcomm.on_msg(this._fire_callback)):void 0!==window._mgr&&(\"register\"===n?window._mgr.widgetManager.proxyKernel.registerCommTarget(t,this._register):(this.jcomm=window._mgr.widgetManager.proxyKernel.createComm(t),this.jcomm.open({},\"\"),this.jcomm.onMsg=this._fire_callback))}send_data(t){void 0!==this.jcomm?this.jcomm.send(t):console.error(\"Jupyter comm module not yet loaded! So we can't send the message.\")}_register(t,e){this.jcomm=t,this.jcomm.on_msg(this._fire_callback)}_fire_callback(t){this.callback(t.content.data)}}class d{constructor(t,n){e(this),this.id=t,this.comm=new s(t),this.comm.subscribe(\"append\",this.appendData),this.comm.subscribe(\"replace\",this.replaceData),this.comm.subscribe(\"event\",this.eventOccurred),this.element=document.getElementById(\"Compiler-content-\"+t),this.stop_button=document.getElementById(\"Compiler-stop-button-\"+t),this.stop_button.onclick=()=>this.comm.send(\"event\",\"stop\")}appendData(t){t&&(this.stop_button.style.display=\"inline-block\",this.element.innerHTML+=t)}replaceData(t){t&&(this.stop_button.style.display=\"inline-block\",this.element.innerHTML=t)}eventOccurred(t){\"complete\"===t&&(this.stop_button.style.display=\"none\")}}window._CompilerDisplay=function(t,e){return new d(t,e)}})()})();; window._engineDisplay(\"0fab7cc7-10e5-417e-85cf-7b65461081ce\");</script>"
      ]
     },
     "metadata": {},
     "output_type": "display_data"
    },
    {
     "name": "stdout",
     "output_type": "stream",
     "text": [
      "memory=llm=<nextpy.ai.engine.llms._openai.OpenAI object at 0x7f4cbd278fd0> memory_threshold=8000 messages=[{'prompt': 'How can I be more productive?', 'llm_response': 'Set clear goals, prioritize tasks, eliminate distractions, manage your time effectively, take regular breaks, delegate tasks when possible, and stay organized.'}]\n"
     ]
    }
   ],
   "source": [
    "query='How can I be more productive?'\n",
    "out = experts(query=query)\n",
    "\n",
    "print(f'memory={general_testing_memory}')"
   ]
  },
  {
   "cell_type": "code",
   "execution_count": 4,
   "metadata": {},
   "outputs": [
    {
     "data": {
      "text/html": [
       "<div id=\"engine-stop-button-05089aea-5e3b-4dc8-84d2-ff878eb51a1c\" style=\"cursor: pointer; margin: 0px; display: none; float: right; padding: 3px; border-radius: 4px 4px 4px 4px; border: 0px solid rgba(127, 127, 127, 1); padding-left: 10px; padding-right: 10px; font-size: 13px; background-color: rgba(127, 127, 127, 0.25);\">Stop program</div><div id=\"engine-content-05089aea-5e3b-4dc8-84d2-ff878eb51a1c\"><pre style='margin: 0px; padding: 0px; padding-left: 8px; margin-left: -8px; border-radius: 0px; border-left: 1px solid rgba(127, 127, 127, 0.2); white-space: pre-wrap; font-family: ColfaxAI, Arial; font-size: 15px; line-height: 23px;'><div style='display: flex; border-bottom: 1px solid rgba(127, 127, 127, 0.2); align-items: center;'><div style='flex: 0 0 80px; opacity: 0.5;'>system</div><div style='flex-grow: 1; padding: 5px; padding-top: 10px; padding-bottom: 10px; margin-top: 0px; white-space: pre-wrap; margin-bottom: 0px;'>You are a helpful and terse assistant.\n",
       "<span style='background-color: rgba(0, 138.56128016, 250.76166089, 0.25); display: inline;' title='{{ ConversationHistory }}'>Current conversation:\n",
       "Human: How can I be more productive?\n",
       "AI: Set clear goals, prioritize tasks, eliminate distractions, manage your time effectively, take regular breaks, delegate tasks when possible, and stay organized.\n",
       "</span></div></div><div style='display: flex; border-bottom: 1px solid rgba(127, 127, 127, 0.2); align-items: center;'><div style='flex: 0 0 80px; opacity: 0.5;'>user</div><div style='flex-grow: 1; padding: 5px; padding-top: 10px; padding-bottom: 10px; margin-top: 0px; white-space: pre-wrap; margin-bottom: 0px;'><span style='background-color: rgba(0, 138.56128016, 250.76166089, 0.25); display: inline;' title='{{ query }}'>Can you give me more suggestions on this topic?</span></div></div><div style='display: flex; border-bottom: 1px solid rgba(127, 127, 127, 0.2); align-items: center;'><div style='flex: 0 0 80px; opacity: 0.5;'>assistant</div><div style='flex-grow: 1; padding: 5px; padding-top: 10px; padding-bottom: 10px; margin-top: 0px; white-space: pre-wrap; margin-bottom: 0px;'><span style='background-color: rgba(0, 165, 0, 0.25); opacity: 1.0; display: inline;' title='{{gen &#x27;result&#x27; temperature=0 max_tokens=300}}'>Certainly! Here are a few more suggestions to help you be more productive:\n",
       "\n",
       "1. Break tasks into smaller, manageable chunks: This makes them less overwhelming and easier to tackle.\n",
       "\n",
       "2. Use productivity tools and apps: There are many tools available that can help you stay organized, manage your time, and track your progress.\n",
       "\n",
       "3. Practice time blocking: Allocate specific time blocks for different tasks or activities to ensure you stay focused and avoid multitasking.\n",
       "\n",
       "4. Minimize interruptions: Turn off notifications, close unnecessary tabs or apps, and communicate your availability to minimize distractions.\n",
       "\n",
       "5. Prioritize your most important tasks: Identify the tasks that will have the biggest impact and tackle those first.\n",
       "\n",
       "6. Learn to say no: Don&#x27;t overcommit yourself. Be selective about the tasks and projects you take on to avoid spreading yourself too thin.\n",
       "\n",
       "7. Take care of your physical and mental well-being: Get enough sleep, eat well, exercise regularly, and practice stress management techniques. A healthy body and mind are essential for productivity.\n",
       "\n",
       "Remember, everyone&#x27;s productivity methods may vary, so it&#x27;s important to find what works best for you.</span></div></div></pre></div>\n",
       "<script type=\"text/javascript\">(()=>{var t={296:(t,e,n)=>{var i=NaN,o=\"[object Symbol]\",r=/^\\s+|\\s+$/g,a=/^[-+]0x[0-9a-f]+$/i,s=/^0b[01]+$/i,c=/^0o[0-7]+$/i,d=parseInt,u=\"object\"==typeof n.g&&n.g&&n.g.Object===Object&&n.g,l=\"object\"==typeof self&&self&&self.Object===Object&&self,f=u||l||Function(\"return this\")(),h=Object.prototype.toString,p=Math.max,m=Math.min,g=function(){return f.Date.now()};function b(t){var e=typeof t;return!!t&&(\"object\"==e||\"function\"==e)}function y(t){if(\"number\"==typeof t)return t;if(function(t){return\"symbol\"==typeof t||function(t){return!!t&&\"object\"==typeof t}(t)&&h.call(t)==o}(t))return i;if(b(t)){var e=\"function\"==typeof t.valueOf?t.valueOf():t;t=b(e)?e+\"\":e}if(\"string\"!=typeof t)return 0===t?t:+t;t=t.replace(r,\"\");var n=s.test(t);return n||c.test(t)?d(t.slice(2),n?2:8):a.test(t)?i:+t}t.exports=function(t,e,n){var i,o,r,a,s,c,d=0,u=!1,l=!1,f=!0;if(\"function\"!=typeof t)throw new TypeError(\"Expected a function\");function h(e){var n=i,r=o;return i=o=void 0,d=e,a=t.apply(r,n)}function v(t){var n=t-c;return void 0===c||n>=e||n<0||l&&t-d>=r}function _(){var t=g();if(v(t))return w(t);s=setTimeout(_,function(t){var n=e-(t-c);return l?m(n,r-(t-d)):n}(t))}function w(t){return s=void 0,f&&i?h(t):(i=o=void 0,a)}function j(){var t=g(),n=v(t);if(i=arguments,o=this,c=t,n){if(void 0===s)return function(t){return d=t,s=setTimeout(_,e),u?h(t):a}(c);if(l)return s=setTimeout(_,e),h(c)}return void 0===s&&(s=setTimeout(_,e)),a}return e=y(e)||0,b(n)&&(u=!!n.leading,r=(l=\"maxWait\"in n)?p(y(n.maxWait)||0,e):r,f=\"trailing\"in n?!!n.trailing:f),j.cancel=function(){void 0!==s&&clearTimeout(s),d=0,i=c=o=s=void 0},j.flush=function(){return void 0===s?a:w(g())},j}},777:t=>{var e,n,i=Math.max,o=(e=function(t,e){return function(t,e,n){if(\"function\"!=typeof t)throw new TypeError(\"Expected a function\");return setTimeout((function(){t.apply(void 0,n)}),1)}(t,0,e)},n=i(void 0===n?e.length-1:n,0),function(){for(var t=arguments,o=-1,r=i(t.length-n,0),a=Array(r);++o<r;)a[o]=t[n+o];o=-1;for(var s=Array(n+1);++o<n;)s[o]=t[o];return s[n]=a,function(t,e,n){switch(n.length){case 0:return t.call(e);case 1:return t.call(e,n[0]);case 2:return t.call(e,n[0],n[1]);case 3:return t.call(e,n[0],n[1],n[2])}return t.apply(e,n)}(e,this,s)});t.exports=o}},e={};function n(i){var o=e[i];if(void 0!==o)return o.exports;var r=e[i]={exports:{}};return t[i](r,r.exports,n),r.exports}n.n=t=>{var e=t&&t.__esModule?()=>t.default:()=>t;return n.d(e,{a:e}),e},n.d=(t,e)=>{for(var i in e)n.o(e,i)&&!n.o(t,i)&&Object.defineProperty(t,i,{enumerable:!0,get:e[i]})},n.g=function(){if(\"object\"==typeof globalThis)return globalThis;try{return this||new Function(\"return this\")()}catch(t){if(\"object\"==typeof window)return window}}(),n.o=(t,e)=>Object.prototype.hasOwnProperty.call(t,e),(()=>{\"use strict\";const t=t=>{const e=new Set;do{for(const n of Reflect.ownKeys(t))e.add([t,n])}while((t=Reflect.getPrototypeOf(t))&&t!==Object.prototype);return e};function e(e,{include:n,exclude:i}={}){const o=t=>{const e=e=>\"string\"==typeof e?t===e:e.test(t);return n?n.some(e):!i||!i.some(e)};for(const[n,i]of t(e.constructor.prototype)){if(\"constructor\"===i||!o(i))continue;const t=Reflect.getOwnPropertyDescriptor(n,i);t&&\"function\"==typeof t.value&&(e[i]=e[i].bind(e))}return e}var i=n(777),o=n.n(i),r=n(296),a=n.n(r);class s{constructor(t,n){e(this),this.interfaceId=t,this.callbackMap={},this.data={},this.pendingData={},this.jcomm=new c(\"Compiler_interface_target_\"+this.interfaceId,this.updateData,\"open\"),this.debouncedSendPendingData500=a()(this.sendPendingData,500),this.debouncedSendPendingData1000=a()(this.sendPendingData,1e3),n&&o()(n)}send(t,e){this.addPendingData(t,e),this.sendPendingData()}sendEvent(t){for(const e of Object.keys(t))this.addPendingData(e,t[e]);this.sendPendingData()}debouncedSendEvent500(t){for(const e of Object.keys(t))this.addPendingData(e,t[e]);this.debouncedSendPendingData500()}debouncedSend500(t,e){this.addPendingData(t,e),this.debouncedSendPendingData500()}debouncedSend1000(t,e){this.addPendingData(t,e),this.debouncedSendPendingData1000()}addPendingData(t,e){Array.isArray(t)||(t=[t]);for(const n in t)this.pendingData[t[n]]=e}updateData(t){t=JSON.parse(t.data);for(const e in t)this.data[e]=t[e];for(const e in t)e in this.callbackMap&&this.callbackMap[e](this.data[e])}subscribe(t,e){this.callbackMap[t]=e,o()((e=>this.callbackMap[t](this.data[t])))}sendPendingData(){this.jcomm.send_data(this.pendingData),this.pendingData={}}}class c{constructor(t,e,n=\"open\"){this._fire_callback=this._fire_callback.bind(this),this._register=this._register.bind(this),this.jcomm=void 0,this.callback=e,void 0!==window.Jupyter?\"register\"===n?Jupyter.notebook.kernel.comm_manager.register_target(t,this._register):(this.jcomm=Jupyter.notebook.kernel.comm_manager.new_comm(t),this.jcomm.on_msg(this._fire_callback)):void 0!==window._mgr&&(\"register\"===n?window._mgr.widgetManager.proxyKernel.registerCommTarget(t,this._register):(this.jcomm=window._mgr.widgetManager.proxyKernel.createComm(t),this.jcomm.open({},\"\"),this.jcomm.onMsg=this._fire_callback))}send_data(t){void 0!==this.jcomm?this.jcomm.send(t):console.error(\"Jupyter comm module not yet loaded! So we can't send the message.\")}_register(t,e){this.jcomm=t,this.jcomm.on_msg(this._fire_callback)}_fire_callback(t){this.callback(t.content.data)}}class d{constructor(t,n){e(this),this.id=t,this.comm=new s(t),this.comm.subscribe(\"append\",this.appendData),this.comm.subscribe(\"replace\",this.replaceData),this.comm.subscribe(\"event\",this.eventOccurred),this.element=document.getElementById(\"Compiler-content-\"+t),this.stop_button=document.getElementById(\"Compiler-stop-button-\"+t),this.stop_button.onclick=()=>this.comm.send(\"event\",\"stop\")}appendData(t){t&&(this.stop_button.style.display=\"inline-block\",this.element.innerHTML+=t)}replaceData(t){t&&(this.stop_button.style.display=\"inline-block\",this.element.innerHTML=t)}eventOccurred(t){\"complete\"===t&&(this.stop_button.style.display=\"none\")}}window._CompilerDisplay=function(t,e){return new d(t,e)}})()})();; window._engineDisplay(\"05089aea-5e3b-4dc8-84d2-ff878eb51a1c\");</script>"
      ]
     },
     "metadata": {},
     "output_type": "display_data"
    },
    {
     "name": "stdout",
     "output_type": "stream",
     "text": [
      "memory=llm=<nextpy.ai.engine.llms._openai.OpenAI object at 0x7f4cbd278fd0> memory_threshold=8000 messages=[{'prompt': 'How can I be more productive?', 'llm_response': 'Set clear goals, prioritize tasks, eliminate distractions, manage your time effectively, take regular breaks, delegate tasks when possible, and stay organized.'}, {'prompt': 'Can you give me more suggestions on this topic?', 'llm_response': \"Certainly! Here are a few more suggestions to help you be more productive:\\n\\n1. Break tasks into smaller, manageable chunks: This makes them less overwhelming and easier to tackle.\\n\\n2. Use productivity tools and apps: There are many tools available that can help you stay organized, manage your time, and track your progress.\\n\\n3. Practice time blocking: Allocate specific time blocks for different tasks or activities to ensure you stay focused and avoid multitasking.\\n\\n4. Minimize interruptions: Turn off notifications, close unnecessary tabs or apps, and communicate your availability to minimize distractions.\\n\\n5. Prioritize your most important tasks: Identify the tasks that will have the biggest impact and tackle those first.\\n\\n6. Learn to say no: Don't overcommit yourself. Be selective about the tasks and projects you take on to avoid spreading yourself too thin.\\n\\n7. Take care of your physical and mental well-being: Get enough sleep, eat well, exercise regularly, and practice stress management techniques. A healthy body and mind are essential for productivity.\\n\\nRemember, everyone's productivity methods may vary, so it's important to find what works best for you.\"}]\n"
     ]
    }
   ],
   "source": [
    "query2='Can you give me more suggestions on this topic?'\n",
    "out2 = experts(query=query2)\n",
    "print(f'memory={general_testing_memory}')"
   ]
  },
  {
   "cell_type": "code",
   "execution_count": 5,
   "metadata": {},
   "outputs": [
    {
     "data": {
      "text/html": [
       "<div id=\"engine-stop-button-9c9265f1-2833-492c-8b37-b62f83455b0a\" style=\"cursor: pointer; margin: 0px; display: none; float: right; padding: 3px; border-radius: 4px 4px 4px 4px; border: 0px solid rgba(127, 127, 127, 1); padding-left: 10px; padding-right: 10px; font-size: 13px; background-color: rgba(127, 127, 127, 0.25);\">Stop program</div><div id=\"engine-content-9c9265f1-2833-492c-8b37-b62f83455b0a\"><pre style='margin: 0px; padding: 0px; padding-left: 8px; margin-left: -8px; border-radius: 0px; border-left: 1px solid rgba(127, 127, 127, 0.2); white-space: pre-wrap; font-family: ColfaxAI, Arial; font-size: 15px; line-height: 23px;'><div style='display: flex; border-bottom: 1px solid rgba(127, 127, 127, 0.2); align-items: center;'><div style='flex: 0 0 80px; opacity: 0.5;'>system</div><div style='flex-grow: 1; padding: 5px; padding-top: 10px; padding-bottom: 10px; margin-top: 0px; white-space: pre-wrap; margin-bottom: 0px;'>You are a helpful and terse assistant.\n",
       "<span style='background-color: rgba(0, 138.56128016, 250.76166089, 0.25); display: inline;' title='{{ ConversationHistory }}'>Current conversation:\n",
       "Human: How can I be more productive?\n",
       "AI: Set clear goals, prioritize tasks, eliminate distractions, manage your time effectively, take regular breaks, delegate tasks when possible, and stay organized.\n",
       "Human: Can you give me more suggestions on this topic?\n",
       "AI: Certainly! Here are a few more suggestions to help you be more productive:\n",
       "\n",
       "1. Break tasks into smaller, manageable chunks: This makes them less overwhelming and easier to tackle.\n",
       "\n",
       "2. Use productivity tools and apps: There are many tools available that can help you stay organized, manage your time, and track your progress.\n",
       "\n",
       "3. Practice time blocking: Allocate specific time blocks for different tasks or activities to ensure you stay focused and avoid multitasking.\n",
       "\n",
       "4. Minimize interruptions: Turn off notifications, close unnecessary tabs or apps, and communicate your availability to minimize distractions.\n",
       "\n",
       "5. Prioritize your most important tasks: Identify the tasks that will have the biggest impact and tackle those first.\n",
       "\n",
       "6. Learn to say no: Don&#x27;t overcommit yourself. Be selective about the tasks and projects you take on to avoid spreading yourself too thin.\n",
       "\n",
       "7. Take care of your physical and mental well-being: Get enough sleep, eat well, exercise regularly, and practice stress management techniques. A healthy body and mind are essential for productivity.\n",
       "\n",
       "Remember, everyone&#x27;s productivity methods may vary, so it&#x27;s important to find what works best for you.\n",
       "</span></div></div><div style='display: flex; border-bottom: 1px solid rgba(127, 127, 127, 0.2); align-items: center;'><div style='flex: 0 0 80px; opacity: 0.5;'>user</div><div style='flex-grow: 1; padding: 5px; padding-top: 10px; padding-bottom: 10px; margin-top: 0px; white-space: pre-wrap; margin-bottom: 0px;'><span style='background-color: rgba(0, 138.56128016, 250.76166089, 0.25); display: inline;' title='{{ query }}'>Make an action plan for me to achieve this.</span></div></div><div style='display: flex; border-bottom: 1px solid rgba(127, 127, 127, 0.2); align-items: center;'><div style='flex: 0 0 80px; opacity: 0.5;'>assistant</div><div style='flex-grow: 1; padding: 5px; padding-top: 10px; padding-bottom: 10px; margin-top: 0px; white-space: pre-wrap; margin-bottom: 0px;'><span style='background-color: rgba(0, 165, 0, 0.25); opacity: 1.0; display: inline;' title='{{gen &#x27;result&#x27; temperature=0 max_tokens=300}}'>Certainly! Here&#x27;s an action plan to help you be more productive:\n",
       "\n",
       "1. Set Clear Goals:\n",
       "   - Define your short-term and long-term goals.\n",
       "   - Make sure your goals are specific, measurable, achievable, relevant, and time-bound (SMART).\n",
       "\n",
       "2. Prioritize Tasks:\n",
       "   - Make a to-do list or use a task management tool.\n",
       "   - Identify the most important tasks and rank them in order of priority.\n",
       "   - Focus on completing high-priority tasks first.\n",
       "\n",
       "3. Break Tasks into Smaller Chunks:\n",
       "   - Divide larger tasks into smaller, more manageable subtasks.\n",
       "   - Set milestones or checkpoints to track your progress.\n",
       "\n",
       "4. Use Productivity Tools and Apps:\n",
       "   - Explore productivity tools like project management software, task trackers, or time management apps.\n",
       "   - Find tools that align with your needs and preferences.\n",
       "\n",
       "5. Practice Time Blocking:\n",
       "   - Allocate specific time blocks for different tasks or activities.\n",
       "   - Set aside uninterrupted time for focused work.\n",
       "   - Avoid multitasking and stick to your schedule.\n",
       "\n",
       "6. Minimize Distractions:\n",
       "   - Turn off notifications on your devices.\n",
       "   - Close unnecessary tabs or apps.\n",
       "   - Communicate your availability to colleagues or family members.\n",
       "\n",
       "7. Prioritize Important Tasks:\n",
       "   - Identify tasks that will have the biggest impact on your goals.\n",
       "   - Tackle those tasks first to make progress towards your objectives.\n",
       "\n",
       "8. Learn to Say No:\n",
       "   - Be selective about the tasks and projects you take</span></div></div></pre></div>\n",
       "<script type=\"text/javascript\">(()=>{var t={296:(t,e,n)=>{var i=NaN,o=\"[object Symbol]\",r=/^\\s+|\\s+$/g,a=/^[-+]0x[0-9a-f]+$/i,s=/^0b[01]+$/i,c=/^0o[0-7]+$/i,d=parseInt,u=\"object\"==typeof n.g&&n.g&&n.g.Object===Object&&n.g,l=\"object\"==typeof self&&self&&self.Object===Object&&self,f=u||l||Function(\"return this\")(),h=Object.prototype.toString,p=Math.max,m=Math.min,g=function(){return f.Date.now()};function b(t){var e=typeof t;return!!t&&(\"object\"==e||\"function\"==e)}function y(t){if(\"number\"==typeof t)return t;if(function(t){return\"symbol\"==typeof t||function(t){return!!t&&\"object\"==typeof t}(t)&&h.call(t)==o}(t))return i;if(b(t)){var e=\"function\"==typeof t.valueOf?t.valueOf():t;t=b(e)?e+\"\":e}if(\"string\"!=typeof t)return 0===t?t:+t;t=t.replace(r,\"\");var n=s.test(t);return n||c.test(t)?d(t.slice(2),n?2:8):a.test(t)?i:+t}t.exports=function(t,e,n){var i,o,r,a,s,c,d=0,u=!1,l=!1,f=!0;if(\"function\"!=typeof t)throw new TypeError(\"Expected a function\");function h(e){var n=i,r=o;return i=o=void 0,d=e,a=t.apply(r,n)}function v(t){var n=t-c;return void 0===c||n>=e||n<0||l&&t-d>=r}function _(){var t=g();if(v(t))return w(t);s=setTimeout(_,function(t){var n=e-(t-c);return l?m(n,r-(t-d)):n}(t))}function w(t){return s=void 0,f&&i?h(t):(i=o=void 0,a)}function j(){var t=g(),n=v(t);if(i=arguments,o=this,c=t,n){if(void 0===s)return function(t){return d=t,s=setTimeout(_,e),u?h(t):a}(c);if(l)return s=setTimeout(_,e),h(c)}return void 0===s&&(s=setTimeout(_,e)),a}return e=y(e)||0,b(n)&&(u=!!n.leading,r=(l=\"maxWait\"in n)?p(y(n.maxWait)||0,e):r,f=\"trailing\"in n?!!n.trailing:f),j.cancel=function(){void 0!==s&&clearTimeout(s),d=0,i=c=o=s=void 0},j.flush=function(){return void 0===s?a:w(g())},j}},777:t=>{var e,n,i=Math.max,o=(e=function(t,e){return function(t,e,n){if(\"function\"!=typeof t)throw new TypeError(\"Expected a function\");return setTimeout((function(){t.apply(void 0,n)}),1)}(t,0,e)},n=i(void 0===n?e.length-1:n,0),function(){for(var t=arguments,o=-1,r=i(t.length-n,0),a=Array(r);++o<r;)a[o]=t[n+o];o=-1;for(var s=Array(n+1);++o<n;)s[o]=t[o];return s[n]=a,function(t,e,n){switch(n.length){case 0:return t.call(e);case 1:return t.call(e,n[0]);case 2:return t.call(e,n[0],n[1]);case 3:return t.call(e,n[0],n[1],n[2])}return t.apply(e,n)}(e,this,s)});t.exports=o}},e={};function n(i){var o=e[i];if(void 0!==o)return o.exports;var r=e[i]={exports:{}};return t[i](r,r.exports,n),r.exports}n.n=t=>{var e=t&&t.__esModule?()=>t.default:()=>t;return n.d(e,{a:e}),e},n.d=(t,e)=>{for(var i in e)n.o(e,i)&&!n.o(t,i)&&Object.defineProperty(t,i,{enumerable:!0,get:e[i]})},n.g=function(){if(\"object\"==typeof globalThis)return globalThis;try{return this||new Function(\"return this\")()}catch(t){if(\"object\"==typeof window)return window}}(),n.o=(t,e)=>Object.prototype.hasOwnProperty.call(t,e),(()=>{\"use strict\";const t=t=>{const e=new Set;do{for(const n of Reflect.ownKeys(t))e.add([t,n])}while((t=Reflect.getPrototypeOf(t))&&t!==Object.prototype);return e};function e(e,{include:n,exclude:i}={}){const o=t=>{const e=e=>\"string\"==typeof e?t===e:e.test(t);return n?n.some(e):!i||!i.some(e)};for(const[n,i]of t(e.constructor.prototype)){if(\"constructor\"===i||!o(i))continue;const t=Reflect.getOwnPropertyDescriptor(n,i);t&&\"function\"==typeof t.value&&(e[i]=e[i].bind(e))}return e}var i=n(777),o=n.n(i),r=n(296),a=n.n(r);class s{constructor(t,n){e(this),this.interfaceId=t,this.callbackMap={},this.data={},this.pendingData={},this.jcomm=new c(\"Compiler_interface_target_\"+this.interfaceId,this.updateData,\"open\"),this.debouncedSendPendingData500=a()(this.sendPendingData,500),this.debouncedSendPendingData1000=a()(this.sendPendingData,1e3),n&&o()(n)}send(t,e){this.addPendingData(t,e),this.sendPendingData()}sendEvent(t){for(const e of Object.keys(t))this.addPendingData(e,t[e]);this.sendPendingData()}debouncedSendEvent500(t){for(const e of Object.keys(t))this.addPendingData(e,t[e]);this.debouncedSendPendingData500()}debouncedSend500(t,e){this.addPendingData(t,e),this.debouncedSendPendingData500()}debouncedSend1000(t,e){this.addPendingData(t,e),this.debouncedSendPendingData1000()}addPendingData(t,e){Array.isArray(t)||(t=[t]);for(const n in t)this.pendingData[t[n]]=e}updateData(t){t=JSON.parse(t.data);for(const e in t)this.data[e]=t[e];for(const e in t)e in this.callbackMap&&this.callbackMap[e](this.data[e])}subscribe(t,e){this.callbackMap[t]=e,o()((e=>this.callbackMap[t](this.data[t])))}sendPendingData(){this.jcomm.send_data(this.pendingData),this.pendingData={}}}class c{constructor(t,e,n=\"open\"){this._fire_callback=this._fire_callback.bind(this),this._register=this._register.bind(this),this.jcomm=void 0,this.callback=e,void 0!==window.Jupyter?\"register\"===n?Jupyter.notebook.kernel.comm_manager.register_target(t,this._register):(this.jcomm=Jupyter.notebook.kernel.comm_manager.new_comm(t),this.jcomm.on_msg(this._fire_callback)):void 0!==window._mgr&&(\"register\"===n?window._mgr.widgetManager.proxyKernel.registerCommTarget(t,this._register):(this.jcomm=window._mgr.widgetManager.proxyKernel.createComm(t),this.jcomm.open({},\"\"),this.jcomm.onMsg=this._fire_callback))}send_data(t){void 0!==this.jcomm?this.jcomm.send(t):console.error(\"Jupyter comm module not yet loaded! So we can't send the message.\")}_register(t,e){this.jcomm=t,this.jcomm.on_msg(this._fire_callback)}_fire_callback(t){this.callback(t.content.data)}}class d{constructor(t,n){e(this),this.id=t,this.comm=new s(t),this.comm.subscribe(\"append\",this.appendData),this.comm.subscribe(\"replace\",this.replaceData),this.comm.subscribe(\"event\",this.eventOccurred),this.element=document.getElementById(\"Compiler-content-\"+t),this.stop_button=document.getElementById(\"Compiler-stop-button-\"+t),this.stop_button.onclick=()=>this.comm.send(\"event\",\"stop\")}appendData(t){t&&(this.stop_button.style.display=\"inline-block\",this.element.innerHTML+=t)}replaceData(t){t&&(this.stop_button.style.display=\"inline-block\",this.element.innerHTML=t)}eventOccurred(t){\"complete\"===t&&(this.stop_button.style.display=\"none\")}}window._CompilerDisplay=function(t,e){return new d(t,e)}})()})();; window._engineDisplay(\"9c9265f1-2833-492c-8b37-b62f83455b0a\");</script>"
      ]
     },
     "metadata": {},
     "output_type": "display_data"
    },
    {
     "name": "stdout",
     "output_type": "stream",
     "text": [
      "memory=llm=<nextpy.ai.engine.llms._openai.OpenAI object at 0x7f4cbd278fd0> memory_threshold=8000 messages=[{'prompt': 'How can I be more productive?', 'llm_response': 'Set clear goals, prioritize tasks, eliminate distractions, manage your time effectively, take regular breaks, delegate tasks when possible, and stay organized.'}, {'prompt': 'Can you give me more suggestions on this topic?', 'llm_response': \"Certainly! Here are a few more suggestions to help you be more productive:\\n\\n1. Break tasks into smaller, manageable chunks: This makes them less overwhelming and easier to tackle.\\n\\n2. Use productivity tools and apps: There are many tools available that can help you stay organized, manage your time, and track your progress.\\n\\n3. Practice time blocking: Allocate specific time blocks for different tasks or activities to ensure you stay focused and avoid multitasking.\\n\\n4. Minimize interruptions: Turn off notifications, close unnecessary tabs or apps, and communicate your availability to minimize distractions.\\n\\n5. Prioritize your most important tasks: Identify the tasks that will have the biggest impact and tackle those first.\\n\\n6. Learn to say no: Don't overcommit yourself. Be selective about the tasks and projects you take on to avoid spreading yourself too thin.\\n\\n7. Take care of your physical and mental well-being: Get enough sleep, eat well, exercise regularly, and practice stress management techniques. A healthy body and mind are essential for productivity.\\n\\nRemember, everyone's productivity methods may vary, so it's important to find what works best for you.\"}, {'prompt': 'Make an action plan for me to achieve this.', 'llm_response': \"Certainly! Here's an action plan to help you be more productive:\\n\\n1. Set Clear Goals:\\n   - Define your short-term and long-term goals.\\n   - Make sure your goals are specific, measurable, achievable, relevant, and time-bound (SMART).\\n\\n2. Prioritize Tasks:\\n   - Make a to-do list or use a task management tool.\\n   - Identify the most important tasks and rank them in order of priority.\\n   - Focus on completing high-priority tasks first.\\n\\n3. Break Tasks into Smaller Chunks:\\n   - Divide larger tasks into smaller, more manageable subtasks.\\n   - Set milestones or checkpoints to track your progress.\\n\\n4. Use Productivity Tools and Apps:\\n   - Explore productivity tools like project management software, task trackers, or time management apps.\\n   - Find tools that align with your needs and preferences.\\n\\n5. Practice Time Blocking:\\n   - Allocate specific time blocks for different tasks or activities.\\n   - Set aside uninterrupted time for focused work.\\n   - Avoid multitasking and stick to your schedule.\\n\\n6. Minimize Distractions:\\n   - Turn off notifications on your devices.\\n   - Close unnecessary tabs or apps.\\n   - Communicate your availability to colleagues or family members.\\n\\n7. Prioritize Important Tasks:\\n   - Identify tasks that will have the biggest impact on your goals.\\n   - Tackle those tasks first to make progress towards your objectives.\\n\\n8. Learn to Say No:\\n   - Be selective about the tasks and projects you take\"}]\n"
     ]
    }
   ],
   "source": [
    "query2='Make an action plan for me to achieve this.'\n",
    "out2 = experts(query=query2)\n",
    "print(f'memory={general_testing_memory}')\n"
   ]
  },
  {
   "cell_type": "code",
   "execution_count": 6,
   "metadata": {},
   "outputs": [
    {
     "data": {
      "text/html": [
       "<div id=\"engine-stop-button-982b34b3-6349-442d-912b-ee8c07457f76\" style=\"cursor: pointer; margin: 0px; display: none; float: right; padding: 3px; border-radius: 4px 4px 4px 4px; border: 0px solid rgba(127, 127, 127, 1); padding-left: 10px; padding-right: 10px; font-size: 13px; background-color: rgba(127, 127, 127, 0.25);\">Stop program</div><div id=\"engine-content-982b34b3-6349-442d-912b-ee8c07457f76\"><pre style='margin: 0px; padding: 0px; padding-left: 8px; margin-left: -8px; border-radius: 0px; border-left: 1px solid rgba(127, 127, 127, 0.2); white-space: pre-wrap; font-family: ColfaxAI, Arial; font-size: 15px; line-height: 23px;'><div style='display: flex; border-bottom: 1px solid rgba(127, 127, 127, 0.2); align-items: center;'><div style='flex: 0 0 80px; opacity: 0.5;'>system</div><div style='flex-grow: 1; padding: 5px; padding-top: 10px; padding-bottom: 10px; margin-top: 0px; white-space: pre-wrap; margin-bottom: 0px;'>You are a helpful and terse assistant.\n",
       "<span style='background-color: rgba(0, 138.56128016, 250.76166089, 0.25); display: inline;' title='{{ ConversationHistory }}'>Current conversation:\n",
       "Human: How can I be more productive?\n",
       "AI: Set clear goals, prioritize tasks, eliminate distractions, manage your time effectively, take regular breaks, delegate tasks when possible, and stay organized.\n",
       "Human: Can you give me more suggestions on this topic?\n",
       "AI: Certainly! Here are a few more suggestions to help you be more productive:\n",
       "\n",
       "1. Break tasks into smaller, manageable chunks: This makes them less overwhelming and easier to tackle.\n",
       "\n",
       "2. Use productivity tools and apps: There are many tools available that can help you stay organized, manage your time, and track your progress.\n",
       "\n",
       "3. Practice time blocking: Allocate specific time blocks for different tasks or activities to ensure you stay focused and avoid multitasking.\n",
       "\n",
       "4. Minimize interruptions: Turn off notifications, close unnecessary tabs or apps, and communicate your availability to minimize distractions.\n",
       "\n",
       "5. Prioritize your most important tasks: Identify the tasks that will have the biggest impact and tackle those first.\n",
       "\n",
       "6. Learn to say no: Don&#x27;t overcommit yourself. Be selective about the tasks and projects you take on to avoid spreading yourself too thin.\n",
       "\n",
       "7. Take care of your physical and mental well-being: Get enough sleep, eat well, exercise regularly, and practice stress management techniques. A healthy body and mind are essential for productivity.\n",
       "\n",
       "Remember, everyone&#x27;s productivity methods may vary, so it&#x27;s important to find what works best for you.\n",
       "Human: Make an action plan for me to achieve this.\n",
       "AI: Certainly! Here&#x27;s an action plan to help you be more productive:\n",
       "\n",
       "1. Set Clear Goals:\n",
       "   - Define your short-term and long-term goals.\n",
       "   - Make sure your goals are specific, measurable, achievable, relevant, and time-bound (SMART).\n",
       "\n",
       "2. Prioritize Tasks:\n",
       "   - Make a to-do list or use a task management tool.\n",
       "   - Identify the most important tasks and rank them in order of priority.\n",
       "   - Focus on completing high-priority tasks first.\n",
       "\n",
       "3. Break Tasks into Smaller Chunks:\n",
       "   - Divide larger tasks into smaller, more manageable subtasks.\n",
       "   - Set milestones or checkpoints to track your progress.\n",
       "\n",
       "4. Use Productivity Tools and Apps:\n",
       "   - Explore productivity tools like project management software, task trackers, or time management apps.\n",
       "   - Find tools that align with your needs and preferences.\n",
       "\n",
       "5. Practice Time Blocking:\n",
       "   - Allocate specific time blocks for different tasks or activities.\n",
       "   - Set aside uninterrupted time for focused work.\n",
       "   - Avoid multitasking and stick to your schedule.\n",
       "\n",
       "6. Minimize Distractions:\n",
       "   - Turn off notifications on your devices.\n",
       "   - Close unnecessary tabs or apps.\n",
       "   - Communicate your availability to colleagues or family members.\n",
       "\n",
       "7. Prioritize Important Tasks:\n",
       "   - Identify tasks that will have the biggest impact on your goals.\n",
       "   - Tackle those tasks first to make progress towards your objectives.\n",
       "\n",
       "8. Learn to Say No:\n",
       "   - Be selective about the tasks and projects you take\n",
       "</span></div></div><div style='display: flex; border-bottom: 1px solid rgba(127, 127, 127, 0.2); align-items: center;'><div style='flex: 0 0 80px; opacity: 0.5;'>user</div><div style='flex-grow: 1; padding: 5px; padding-top: 10px; padding-bottom: 10px; margin-top: 0px; white-space: pre-wrap; margin-bottom: 0px;'><span style='background-color: rgba(0, 138.56128016, 250.76166089, 0.25); display: inline;' title='{{ query }}'>Suggest me books to read on the above.</span></div></div><div style='display: flex; border-bottom: 1px solid rgba(127, 127, 127, 0.2); align-items: center;'><div style='flex: 0 0 80px; opacity: 0.5;'>assistant</div><div style='flex-grow: 1; padding: 5px; padding-top: 10px; padding-bottom: 10px; margin-top: 0px; white-space: pre-wrap; margin-bottom: 0px;'><span style='background-color: rgba(0, 165, 0, 0.25); opacity: 1.0; display: inline;' title='{{gen &#x27;result&#x27; temperature=0 max_tokens=300}}'>Certainly! Here are some books that can help you improve productivity and time management:\n",
       "\n",
       "1. &quot;Getting Things Done: The Art of Stress-Free Productivity&quot; by David Allen\n",
       "   - This book offers a comprehensive system for organizing tasks, managing priorities, and achieving stress-free productivity.\n",
       "\n",
       "2. &quot;Atomic Habits: An Easy &amp; Proven Way to Build Good Habits &amp; Break Bad Ones&quot; by James Clear\n",
       "   - This book explores the power of small habits and provides practical strategies for building productive routines.\n",
       "\n",
       "3. &quot;Deep Work: Rules for Focused Success in a Distracted World&quot; by Cal Newport\n",
       "   - In this book, Newport discusses the importance of deep, focused work and provides strategies for minimizing distractions and maximizing productivity.\n",
       "\n",
       "4. &quot;The 4-Hour Workweek: Escape 9-5, Live Anywhere, and Join the New Rich&quot; by Timothy Ferriss\n",
       "   - This book challenges traditional notions of work and offers strategies for maximizing efficiency and achieving a more balanced lifestyle.\n",
       "\n",
       "5. &quot;Essentialism: The Disciplined Pursuit of Less&quot; by Greg McKeown\n",
       "   - McKeown explores the concept of essentialism and provides insights on how to focus on what truly matters, eliminate non-essential tasks, and increase productivity.\n",
       "\n",
       "6. &quot;The Power of Habit: Why We Do What We Do in Life and Business&quot; by Charles Duhigg\n",
       "   - This book delves into the science of habit formation and provides practical techniques for</span></div></div></pre></div>\n",
       "<script type=\"text/javascript\">(()=>{var t={296:(t,e,n)=>{var i=NaN,o=\"[object Symbol]\",r=/^\\s+|\\s+$/g,a=/^[-+]0x[0-9a-f]+$/i,s=/^0b[01]+$/i,c=/^0o[0-7]+$/i,d=parseInt,u=\"object\"==typeof n.g&&n.g&&n.g.Object===Object&&n.g,l=\"object\"==typeof self&&self&&self.Object===Object&&self,f=u||l||Function(\"return this\")(),h=Object.prototype.toString,p=Math.max,m=Math.min,g=function(){return f.Date.now()};function b(t){var e=typeof t;return!!t&&(\"object\"==e||\"function\"==e)}function y(t){if(\"number\"==typeof t)return t;if(function(t){return\"symbol\"==typeof t||function(t){return!!t&&\"object\"==typeof t}(t)&&h.call(t)==o}(t))return i;if(b(t)){var e=\"function\"==typeof t.valueOf?t.valueOf():t;t=b(e)?e+\"\":e}if(\"string\"!=typeof t)return 0===t?t:+t;t=t.replace(r,\"\");var n=s.test(t);return n||c.test(t)?d(t.slice(2),n?2:8):a.test(t)?i:+t}t.exports=function(t,e,n){var i,o,r,a,s,c,d=0,u=!1,l=!1,f=!0;if(\"function\"!=typeof t)throw new TypeError(\"Expected a function\");function h(e){var n=i,r=o;return i=o=void 0,d=e,a=t.apply(r,n)}function v(t){var n=t-c;return void 0===c||n>=e||n<0||l&&t-d>=r}function _(){var t=g();if(v(t))return w(t);s=setTimeout(_,function(t){var n=e-(t-c);return l?m(n,r-(t-d)):n}(t))}function w(t){return s=void 0,f&&i?h(t):(i=o=void 0,a)}function j(){var t=g(),n=v(t);if(i=arguments,o=this,c=t,n){if(void 0===s)return function(t){return d=t,s=setTimeout(_,e),u?h(t):a}(c);if(l)return s=setTimeout(_,e),h(c)}return void 0===s&&(s=setTimeout(_,e)),a}return e=y(e)||0,b(n)&&(u=!!n.leading,r=(l=\"maxWait\"in n)?p(y(n.maxWait)||0,e):r,f=\"trailing\"in n?!!n.trailing:f),j.cancel=function(){void 0!==s&&clearTimeout(s),d=0,i=c=o=s=void 0},j.flush=function(){return void 0===s?a:w(g())},j}},777:t=>{var e,n,i=Math.max,o=(e=function(t,e){return function(t,e,n){if(\"function\"!=typeof t)throw new TypeError(\"Expected a function\");return setTimeout((function(){t.apply(void 0,n)}),1)}(t,0,e)},n=i(void 0===n?e.length-1:n,0),function(){for(var t=arguments,o=-1,r=i(t.length-n,0),a=Array(r);++o<r;)a[o]=t[n+o];o=-1;for(var s=Array(n+1);++o<n;)s[o]=t[o];return s[n]=a,function(t,e,n){switch(n.length){case 0:return t.call(e);case 1:return t.call(e,n[0]);case 2:return t.call(e,n[0],n[1]);case 3:return t.call(e,n[0],n[1],n[2])}return t.apply(e,n)}(e,this,s)});t.exports=o}},e={};function n(i){var o=e[i];if(void 0!==o)return o.exports;var r=e[i]={exports:{}};return t[i](r,r.exports,n),r.exports}n.n=t=>{var e=t&&t.__esModule?()=>t.default:()=>t;return n.d(e,{a:e}),e},n.d=(t,e)=>{for(var i in e)n.o(e,i)&&!n.o(t,i)&&Object.defineProperty(t,i,{enumerable:!0,get:e[i]})},n.g=function(){if(\"object\"==typeof globalThis)return globalThis;try{return this||new Function(\"return this\")()}catch(t){if(\"object\"==typeof window)return window}}(),n.o=(t,e)=>Object.prototype.hasOwnProperty.call(t,e),(()=>{\"use strict\";const t=t=>{const e=new Set;do{for(const n of Reflect.ownKeys(t))e.add([t,n])}while((t=Reflect.getPrototypeOf(t))&&t!==Object.prototype);return e};function e(e,{include:n,exclude:i}={}){const o=t=>{const e=e=>\"string\"==typeof e?t===e:e.test(t);return n?n.some(e):!i||!i.some(e)};for(const[n,i]of t(e.constructor.prototype)){if(\"constructor\"===i||!o(i))continue;const t=Reflect.getOwnPropertyDescriptor(n,i);t&&\"function\"==typeof t.value&&(e[i]=e[i].bind(e))}return e}var i=n(777),o=n.n(i),r=n(296),a=n.n(r);class s{constructor(t,n){e(this),this.interfaceId=t,this.callbackMap={},this.data={},this.pendingData={},this.jcomm=new c(\"Compiler_interface_target_\"+this.interfaceId,this.updateData,\"open\"),this.debouncedSendPendingData500=a()(this.sendPendingData,500),this.debouncedSendPendingData1000=a()(this.sendPendingData,1e3),n&&o()(n)}send(t,e){this.addPendingData(t,e),this.sendPendingData()}sendEvent(t){for(const e of Object.keys(t))this.addPendingData(e,t[e]);this.sendPendingData()}debouncedSendEvent500(t){for(const e of Object.keys(t))this.addPendingData(e,t[e]);this.debouncedSendPendingData500()}debouncedSend500(t,e){this.addPendingData(t,e),this.debouncedSendPendingData500()}debouncedSend1000(t,e){this.addPendingData(t,e),this.debouncedSendPendingData1000()}addPendingData(t,e){Array.isArray(t)||(t=[t]);for(const n in t)this.pendingData[t[n]]=e}updateData(t){t=JSON.parse(t.data);for(const e in t)this.data[e]=t[e];for(const e in t)e in this.callbackMap&&this.callbackMap[e](this.data[e])}subscribe(t,e){this.callbackMap[t]=e,o()((e=>this.callbackMap[t](this.data[t])))}sendPendingData(){this.jcomm.send_data(this.pendingData),this.pendingData={}}}class c{constructor(t,e,n=\"open\"){this._fire_callback=this._fire_callback.bind(this),this._register=this._register.bind(this),this.jcomm=void 0,this.callback=e,void 0!==window.Jupyter?\"register\"===n?Jupyter.notebook.kernel.comm_manager.register_target(t,this._register):(this.jcomm=Jupyter.notebook.kernel.comm_manager.new_comm(t),this.jcomm.on_msg(this._fire_callback)):void 0!==window._mgr&&(\"register\"===n?window._mgr.widgetManager.proxyKernel.registerCommTarget(t,this._register):(this.jcomm=window._mgr.widgetManager.proxyKernel.createComm(t),this.jcomm.open({},\"\"),this.jcomm.onMsg=this._fire_callback))}send_data(t){void 0!==this.jcomm?this.jcomm.send(t):console.error(\"Jupyter comm module not yet loaded! So we can't send the message.\")}_register(t,e){this.jcomm=t,this.jcomm.on_msg(this._fire_callback)}_fire_callback(t){this.callback(t.content.data)}}class d{constructor(t,n){e(this),this.id=t,this.comm=new s(t),this.comm.subscribe(\"append\",this.appendData),this.comm.subscribe(\"replace\",this.replaceData),this.comm.subscribe(\"event\",this.eventOccurred),this.element=document.getElementById(\"Compiler-content-\"+t),this.stop_button=document.getElementById(\"Compiler-stop-button-\"+t),this.stop_button.onclick=()=>this.comm.send(\"event\",\"stop\")}appendData(t){t&&(this.stop_button.style.display=\"inline-block\",this.element.innerHTML+=t)}replaceData(t){t&&(this.stop_button.style.display=\"inline-block\",this.element.innerHTML=t)}eventOccurred(t){\"complete\"===t&&(this.stop_button.style.display=\"none\")}}window._CompilerDisplay=function(t,e){return new d(t,e)}})()})();; window._engineDisplay(\"982b34b3-6349-442d-912b-ee8c07457f76\");</script>"
      ]
     },
     "metadata": {},
     "output_type": "display_data"
    },
    {
     "name": "stdout",
     "output_type": "stream",
     "text": [
      "memory=llm=<nextpy.ai.engine.llms._openai.OpenAI object at 0x7f4cbd278fd0> memory_threshold=8000 messages=[{'prompt': 'How can I be more productive?', 'llm_response': 'Set clear goals, prioritize tasks, eliminate distractions, manage your time effectively, take regular breaks, delegate tasks when possible, and stay organized.'}, {'prompt': 'Can you give me more suggestions on this topic?', 'llm_response': \"Certainly! Here are a few more suggestions to help you be more productive:\\n\\n1. Break tasks into smaller, manageable chunks: This makes them less overwhelming and easier to tackle.\\n\\n2. Use productivity tools and apps: There are many tools available that can help you stay organized, manage your time, and track your progress.\\n\\n3. Practice time blocking: Allocate specific time blocks for different tasks or activities to ensure you stay focused and avoid multitasking.\\n\\n4. Minimize interruptions: Turn off notifications, close unnecessary tabs or apps, and communicate your availability to minimize distractions.\\n\\n5. Prioritize your most important tasks: Identify the tasks that will have the biggest impact and tackle those first.\\n\\n6. Learn to say no: Don't overcommit yourself. Be selective about the tasks and projects you take on to avoid spreading yourself too thin.\\n\\n7. Take care of your physical and mental well-being: Get enough sleep, eat well, exercise regularly, and practice stress management techniques. A healthy body and mind are essential for productivity.\\n\\nRemember, everyone's productivity methods may vary, so it's important to find what works best for you.\"}, {'prompt': 'Make an action plan for me to achieve this.', 'llm_response': \"Certainly! Here's an action plan to help you be more productive:\\n\\n1. Set Clear Goals:\\n   - Define your short-term and long-term goals.\\n   - Make sure your goals are specific, measurable, achievable, relevant, and time-bound (SMART).\\n\\n2. Prioritize Tasks:\\n   - Make a to-do list or use a task management tool.\\n   - Identify the most important tasks and rank them in order of priority.\\n   - Focus on completing high-priority tasks first.\\n\\n3. Break Tasks into Smaller Chunks:\\n   - Divide larger tasks into smaller, more manageable subtasks.\\n   - Set milestones or checkpoints to track your progress.\\n\\n4. Use Productivity Tools and Apps:\\n   - Explore productivity tools like project management software, task trackers, or time management apps.\\n   - Find tools that align with your needs and preferences.\\n\\n5. Practice Time Blocking:\\n   - Allocate specific time blocks for different tasks or activities.\\n   - Set aside uninterrupted time for focused work.\\n   - Avoid multitasking and stick to your schedule.\\n\\n6. Minimize Distractions:\\n   - Turn off notifications on your devices.\\n   - Close unnecessary tabs or apps.\\n   - Communicate your availability to colleagues or family members.\\n\\n7. Prioritize Important Tasks:\\n   - Identify tasks that will have the biggest impact on your goals.\\n   - Tackle those tasks first to make progress towards your objectives.\\n\\n8. Learn to Say No:\\n   - Be selective about the tasks and projects you take\"}, {'prompt': 'Suggest me books to read on the above.', 'llm_response': 'Certainly! Here are some books that can help you improve productivity and time management:\\n\\n1. \"Getting Things Done: The Art of Stress-Free Productivity\" by David Allen\\n   - This book offers a comprehensive system for organizing tasks, managing priorities, and achieving stress-free productivity.\\n\\n2. \"Atomic Habits: An Easy & Proven Way to Build Good Habits & Break Bad Ones\" by James Clear\\n   - This book explores the power of small habits and provides practical strategies for building productive routines.\\n\\n3. \"Deep Work: Rules for Focused Success in a Distracted World\" by Cal Newport\\n   - In this book, Newport discusses the importance of deep, focused work and provides strategies for minimizing distractions and maximizing productivity.\\n\\n4. \"The 4-Hour Workweek: Escape 9-5, Live Anywhere, and Join the New Rich\" by Timothy Ferriss\\n   - This book challenges traditional notions of work and offers strategies for maximizing efficiency and achieving a more balanced lifestyle.\\n\\n5. \"Essentialism: The Disciplined Pursuit of Less\" by Greg McKeown\\n   - McKeown explores the concept of essentialism and provides insights on how to focus on what truly matters, eliminate non-essential tasks, and increase productivity.\\n\\n6. \"The Power of Habit: Why We Do What We Do in Life and Business\" by Charles Duhigg\\n   - This book delves into the science of habit formation and provides practical techniques for'}]\n"
     ]
    }
   ],
   "source": [
    "query2='Suggest me books to read on the above.'\n",
    "out2 = experts(query=query2)\n",
    "print(f'memory={general_testing_memory}')"
   ]
  },
  {
   "cell_type": "markdown",
   "metadata": {},
   "source": [
    "### Read Only Memory\n",
    "*Note: run the above example 'General Memory Testing' for the below code to run."
   ]
  },
  {
   "cell_type": "code",
   "execution_count": null,
   "metadata": {},
   "outputs": [],
   "source": [
    "read_only_memory = ReadOnlyMemory(memory=general_testing_memory)\n",
    "\n",
    "experts2 = engine(template='''\n",
    "{{#system~}}\n",
    "You are a helpful and terse assistant.\n",
    "{{~/system}}\n",
    "\n",
    "{{#user~}}\n",
    "{{ query }}\n",
    "{{~/user}}\n",
    "\n",
    "{{#assistant~}}\n",
    "{{gen 'result' temperature=0 max_tokens=300}}\n",
    "{{~/assistant}}\n",
    "''', llm=llm, stream = False, memory=read_only_memory)\n",
    "\n",
    "query2='Give me a background on the authors of these books.'\n",
    "out2 = experts2(query=query2)\n",
    "print(f'memory={read_only_memory}')"
   ]
  },
  {
   "cell_type": "code",
   "execution_count": null,
   "metadata": {},
   "outputs": [],
   "source": [
    "query3='Give the sources of the background check.'\n",
    "out3= experts2(query=query3)"
   ]
  },
  {
   "cell_type": "markdown",
   "metadata": {},
   "source": [
    "### Remove conversation from memory\n",
    "*Note: run the above example 'General Memory Testing' for the below code to run."
   ]
  },
  {
   "cell_type": "code",
   "execution_count": null,
   "metadata": {},
   "outputs": [],
   "source": [
    "general_testing_memory.remove_memory(query2)\n",
    "general_testing_memory.messages"
   ]
  },
  {
   "cell_type": "markdown",
   "metadata": {},
   "source": [
    "### Clear memory\n",
    "*Note: run the above example 'General Memory Testing' for the below code to run."
   ]
  },
  {
   "cell_type": "code",
   "execution_count": null,
   "metadata": {},
   "outputs": [],
   "source": [
    "general_testing_memory.clear()\n",
    "general_testing_memory.messages"
   ]
  },
  {
   "cell_type": "markdown",
   "metadata": {},
   "source": [
    "### Memory with Agent"
   ]
  },
  {
   "cell_type": "code",
   "execution_count": 8,
   "metadata": {},
   "outputs": [
    {
     "name": "stdout",
     "output_type": "stream",
     "text": [
      "The famous dialogue from \"The Lord of the Rings\" is:\n",
      "\n",
      "\"One ring to rule them all, one ring to find them, one ring to bring them all and in the darkness bind them.\"\n",
      "The famous dialogue \"One ring to rule them all, one ring to find them, one ring to bring them all and in the darkness bind them\" was said by the character Gandalf in \"The Lord of the Rings\" by J.R.R. Tolkien.\n",
      "The character Gandalf said the famous dialogue \"One ring to rule them all, one ring to find them, one ring to bring them all and in the darkness bind them\" to the Council of Elrond in \"The Lord of the Rings\" by J.R.R. Tolkien.\n"
     ]
    }
   ],
   "source": [
    "from nextpy.ai.engine.llms._openai import OpenAI\n",
    "from nextpy.ai import engine\n",
    "from nextpy.ai.agent.chat import ChatAgent\n",
    "from nextpy.ai.memory import SimpleMemory\n",
    "\n",
    "import re\n",
    "\n",
    "api_key = 'api_key'\n",
    "\n",
    "llm =  engine.llms.OpenAI(\"gpt-3.5-turbo\", chat_mode=True, api_key=api_key, caching=False)\n",
    "\n",
    "agent_memory = SimpleMemory()\n",
    "\n",
    "chat_template = '''\n",
    "            {{#system~}}\n",
    "            you are a helpful assistant.\n",
    "            {{~/system}}\n",
    "\n",
    "            {{#user~}}\n",
    "            You will use this FORMAT only to answer user's QUERY\n",
    "            FORMAT: {{format}}\n",
    "            QUERY: {{input}}\n",
    "\n",
    "           \n",
    "            {{~/user}}\n",
    "\n",
    "            {{#assistant~}}\n",
    "            Yes, I will tell you about with that\n",
    "            {{~/assistant}}\n",
    "\n",
    "            {{#user~}}\n",
    "            Yes, tell me\n",
    "            {{~/user}}\n",
    "\n",
    "            {{#assistant~}}\n",
    "            {{gen 'response' temperature=0 max_tokens=300}}\n",
    "            {{~/assistant}}'''\n",
    "\n",
    "agent = ChatAgent(\n",
    "    llm=llm,\n",
    "    prompt_template=chat_template,\n",
    "    input_variables={ \"extras\": 'format'},\n",
    "    output_key='response',\n",
    "    memory = agent_memory\n",
    "    )\n",
    "\n",
    "# agent = load_agent_config('config.agent')\n",
    "out= agent.run(input = \"What was the famous dialogue of lord of the rings?\", format = \"JSON\")\n",
    "out2= agent.run(input = \"Who said that?\", format = \"JSON\")\n",
    "out3= agent.run(input = \"To whom did he say that?\", format = \"JSON\")\n",
    "\n",
    "print(out)\n",
    "print(out2)\n",
    "print(out3)"
   ]
  },
  {
   "cell_type": "code",
   "execution_count": null,
   "metadata": {},
   "outputs": [],
   "source": []
  }
 ],
 "metadata": {
  "kernelspec": {
   "display_name": "openagent",
   "language": "python",
   "name": "python3"
  },
  "language_info": {
   "codemirror_mode": {
    "name": "ipython",
    "version": 3
   },
   "file_extension": ".py",
   "mimetype": "text/x-python",
   "name": "python",
   "nbconvert_exporter": "python",
   "pygments_lexer": "ipython3",
   "version": "3.11.2"
  },
  "orig_nbformat": 4
 },
 "nbformat": 4,
 "nbformat_minor": 2
}
